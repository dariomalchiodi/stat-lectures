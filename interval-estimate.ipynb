{
 "cells": [
  {
   "cell_type": "markdown",
   "metadata": {
    "slideshow": {
     "slide_type": "slide"
    }
   },
   "source": [
    "# Fiducial intervals\n",
    "\n",
    "Alternative to point estimation: given an unknown quantity $\\tau$\n",
    "\n",
    "- provide an interval $I$ likely containing $\\tau$\n",
    "- and quantiy this likelyhood"
   ]
  },
  {
   "cell_type": "markdown",
   "metadata": {
    "slideshow": {
     "slide_type": "slide"
    }
   },
   "source": [
    "## Prerequisites\n",
    "\n",
    "- Gaussian distribution\n",
    "- Sample mean, sample variance, and their properties\n",
    "- (minor) basic python knowledge"
   ]
  },
  {
   "cell_type": "markdown",
   "metadata": {},
   "source": [
    "## A first example\n",
    "\n",
    "$$\\{ X_1, \\dots, X_n\\} \\text{ sample from } X\\sim N(\\mu, \\sigma)$$\n",
    "\n",
    "$$\\bar X = \\frac{1}{n}\\sum_{i=1}^n X_i \\sim N\\left(\\mu, \\frac{\\sigma}{\\sqrt{n}}\\right)$$\n",
    "\n",
    "$$Z = \\frac{\\bar X - \\mu}{\\frac{\\sigma}{\\sqrt{n}}} \\sim N(0, 1)$$\n",
    "\n",
    "Fixed $\\alpha$, find $z$ such that\n",
    "\n",
    "$$\\mathrm P(|Z|<z) = \\alpha $$"
   ]
  },
  {
   "cell_type": "code",
   "execution_count": 155,
   "metadata": {
    "hide_input": false
   },
   "outputs": [
    {
     "data": {
      "application/vnd.jupyter.widget-view+json": {
       "model_id": "51ba48903075405a86c081da3437d09d",
       "version_major": 2,
       "version_minor": 0
      },
      "text/html": [
       "<p>Failed to display Jupyter Widget of type <code>interactive</code>.</p>\n",
       "<p>\n",
       "  If you're reading this message in the Jupyter Notebook or JupyterLab Notebook, it may mean\n",
       "  that the widgets JavaScript is still loading. If this message persists, it\n",
       "  likely means that the widgets JavaScript library is either not installed or\n",
       "  not enabled. See the <a href=\"https://ipywidgets.readthedocs.io/en/stable/user_install.html\">Jupyter\n",
       "  Widgets Documentation</a> for setup instructions.\n",
       "</p>\n",
       "<p>\n",
       "  If you're reading this message in another frontend (for example, a static\n",
       "  rendering on GitHub or <a href=\"https://nbviewer.jupyter.org/\">NBViewer</a>),\n",
       "  it may mean that your frontend doesn't currently support widgets.\n",
       "</p>\n"
      ],
      "text/plain": [
       "interactive(children=(FloatSlider(value=0.95, description='Confidence', max=0.99, min=0.1, step=0.01), Output()), _dom_classes=('widget-interact',))"
      ]
     },
     "metadata": {},
     "output_type": "display_data"
    }
   ],
   "source": [
    "%matplotlib inline\n",
    "\n",
    "from __future__ import print_function\n",
    "\n",
    "import scipy.stats as st\n",
    "import pandas as pd\n",
    "import math\n",
    "import matplotlib.pyplot as plt\n",
    "import numpy as np\n",
    "from ipywidgets import widgets, interact\n",
    "from IPython.display import display, clear_output\n",
    "\n",
    "def ci_graph(conf):\n",
    "    Z = st.norm()\n",
    "    q = Z.ppf((1+conf)/2)\n",
    "    xs = np.arange(-q, q+.01, .01)\n",
    "    plt.plot(xs, Z.pdf(xs))\n",
    "    left_tail = np.arange(-3, -q+.01, .01)\n",
    "    right_tail = np.arange(q, 3, .01)\n",
    "    plt.fill_between(right_tail, 0, Z.pdf(right_tail), facecolor='lightblue')\n",
    "    plt.fill_between(left_tail, 0, Z.pdf(left_tail), facecolor='lightblue')\n",
    "    plt.title('$z = {:.2f}$'.format(q))\n",
    "    plt.text(q+(3-q)/2, Z.pdf(q), r'$\\frac{1-\\alpha}{2}$', fontsize=25, horizontalalignment='center')\n",
    "    plt.text(-q-(3-q)/2, Z.pdf(q), r'$\\frac{1-\\alpha}{2}$', fontsize=25, horizontalalignment='center')\n",
    "    plt.text(0, .15, r'$\\alpha$', fontsize=25, horizontalalignment='center')\n",
    "    plt.show()\n",
    "\n",
    "rangeSlider = widgets.FloatSlider(\n",
    "    value = .95,\n",
    "    min = .1,\n",
    "    max = .99,\n",
    "    step = .01,\n",
    "    description = 'Confidence',\n",
    "    continuous_update = True\n",
    ")\n",
    "\n",
    "interact(ci_graph, conf=rangeSlider);"
   ]
  },
  {
   "cell_type": "markdown",
   "metadata": {},
   "source": [
    "Let $\\chi_p = \\Phi^{-1}(p)$ denote the $p$ quantile of $Z$\n",
    "\n",
    "The answer is\n",
    "\n",
    "$$ z = \\chi_{1-\\frac{1-\\alpha}{2}} = \\chi_{\\frac{1+\\alpha}{2}} $$"
   ]
  },
  {
   "cell_type": "markdown",
   "metadata": {},
   "source": [
    "Some reference values:"
   ]
  },
  {
   "cell_type": "code",
   "execution_count": 2,
   "metadata": {
    "hide_input": true
   },
   "outputs": [
    {
     "data": {
      "text/html": [
       "<style>\n",
       "table#id769526 tr :first-child{display: none;}\n",
       "</style><table id=id769526  border=\"1\" class=\"dataframe\">\n",
       "  <thead>\n",
       "    <tr style=\"text-align: right;\">\n",
       "      <th></th>\n",
       "      <th>alpha</th>\n",
       "      <th>z</th>\n",
       "    </tr>\n",
       "  </thead>\n",
       "  <tbody>\n",
       "    <tr>\n",
       "      <th>0</th>\n",
       "      <td>0.50</td>\n",
       "      <td>0.67</td>\n",
       "    </tr>\n",
       "    <tr>\n",
       "      <th>1</th>\n",
       "      <td>0.55</td>\n",
       "      <td>0.76</td>\n",
       "    </tr>\n",
       "    <tr>\n",
       "      <th>2</th>\n",
       "      <td>0.60</td>\n",
       "      <td>0.84</td>\n",
       "    </tr>\n",
       "    <tr>\n",
       "      <th>3</th>\n",
       "      <td>0.65</td>\n",
       "      <td>0.93</td>\n",
       "    </tr>\n",
       "    <tr>\n",
       "      <th>4</th>\n",
       "      <td>0.70</td>\n",
       "      <td>1.04</td>\n",
       "    </tr>\n",
       "    <tr>\n",
       "      <th>5</th>\n",
       "      <td>0.75</td>\n",
       "      <td>1.15</td>\n",
       "    </tr>\n",
       "    <tr>\n",
       "      <th>6</th>\n",
       "      <td>0.80</td>\n",
       "      <td>1.28</td>\n",
       "    </tr>\n",
       "    <tr>\n",
       "      <th>7</th>\n",
       "      <td>0.85</td>\n",
       "      <td>1.44</td>\n",
       "    </tr>\n",
       "    <tr>\n",
       "      <th>8</th>\n",
       "      <td>0.90</td>\n",
       "      <td>1.64</td>\n",
       "    </tr>\n",
       "    <tr>\n",
       "      <th>9</th>\n",
       "      <td>0.95</td>\n",
       "      <td>1.96</td>\n",
       "    </tr>\n",
       "  </tbody>\n",
       "</table>"
      ],
      "text/plain": [
       "<IPython.core.display.HTML object>"
      ]
     },
     "execution_count": 2,
     "metadata": {},
     "output_type": "execute_result"
    }
   ],
   "source": [
    "def HTML_with_style(df, style=None, random_id=None):\n",
    "    from IPython.display import HTML\n",
    "    import numpy as np\n",
    "    import re\n",
    "\n",
    "    df_html = df.to_html()\n",
    "\n",
    "    if random_id is None:\n",
    "        random_id = 'id%d' % np.random.choice(np.arange(1000000))\n",
    "\n",
    "    if style is None:\n",
    "        style = \"\"\"\n",
    "        <style>\n",
    "            table#{random_id} {{color: blue}}\n",
    "        </style>\n",
    "        \"\"\".format(random_id=random_id)\n",
    "    else:\n",
    "        new_style = []\n",
    "        s = re.sub(r'</?style>', '', style).strip()\n",
    "        for line in s.split('\\n'):\n",
    "                line = line.strip()\n",
    "                if not re.match(r'^table', line):\n",
    "                    line = re.sub(r'^', 'table ', line)\n",
    "                new_style.append(line)\n",
    "        new_style = ['<style>'] + new_style + ['</style>']\n",
    "\n",
    "        style = re.sub(r'table(#\\S+)?',\n",
    "                       'table#%s' % random_id, '\\n'.join(new_style))\n",
    "\n",
    "    df_html = re.sub(r'<table', r'<table id=%s ' % random_id, df_html)\n",
    "\n",
    "    return HTML(style + df_html)\n",
    "\n",
    "style = \"\"\"\n",
    "<style>\n",
    "    table tr :first-child{display: none;}\n",
    "</style>\n",
    "\"\"\"\n",
    "\n",
    "Z = st.norm()\n",
    "HTML_with_style(pd.DataFrame([('{:.2f}'.format(alpha),\n",
    "  '{:.2f}'.format(Z.ppf((1+alpha)/2))) for alpha in np.arange(.5, 1, .05)],\n",
    "            columns=['alpha', 'z']),\n",
    "                style)"
   ]
  },
  {
   "cell_type": "markdown",
   "metadata": {},
   "source": [
    "Thus\n",
    "\n",
    "$$\\mathrm P(-\\chi_{\\frac{1+\\alpha}{2}} < Z < \\chi_{\\frac{1+\\alpha}{2}}) = 1 - \\alpha $$"
   ]
  },
  {
   "cell_type": "code",
   "execution_count": 26,
   "metadata": {
    "hide_input": true
   },
   "outputs": [
    {
     "data": {
      "application/vnd.jupyter.widget-view+json": {
       "model_id": "5a1515c775b94e79bee75d425ab15a16",
       "version_major": 2,
       "version_minor": 0
      },
      "text/html": [
       "<p>Failed to display Jupyter Widget of type <code>interactive</code>.</p>\n",
       "<p>\n",
       "  If you're reading this message in the Jupyter Notebook or JupyterLab Notebook, it may mean\n",
       "  that the widgets JavaScript is still loading. If this message persists, it\n",
       "  likely means that the widgets JavaScript library is either not installed or\n",
       "  not enabled. See the <a href=\"https://ipywidgets.readthedocs.io/en/stable/user_install.html\">Jupyter\n",
       "  Widgets Documentation</a> for setup instructions.\n",
       "</p>\n",
       "<p>\n",
       "  If you're reading this message in another frontend (for example, a static\n",
       "  rendering on GitHub or <a href=\"https://nbviewer.jupyter.org/\">NBViewer</a>),\n",
       "  it may mean that your frontend doesn't currently support widgets.\n",
       "</p>\n"
      ],
      "text/plain": [
       "interactive(children=(FloatSlider(value=0.95, description='Confidence', max=0.99, min=0.1, step=0.01), Output()), _dom_classes=('widget-interact',))"
      ]
     },
     "metadata": {},
     "output_type": "display_data"
    }
   ],
   "source": [
    "def inner_ci_graph(conf):\n",
    "    Z = st.norm()\n",
    "    q = Z.ppf((1+conf)/2)\n",
    "    xs = np.arange(-q, q+.01, .01)\n",
    "    left_tail = np.arange(-3, -q+.01, .01)\n",
    "    right_tail = np.arange(q, 3, .01)\n",
    "    plt.plot(right_tail, Z.pdf(right_tail), c='b')\n",
    "    plt.plot(left_tail, Z.pdf(left_tail), c='b')\n",
    "    plt.fill_between(xs, 0, Z.pdf(xs), facecolor='lightblue')\n",
    "    plt.title('$P({:.2f} < Z < {:.2f}) = {:.2f}$'.format(-q, q, conf), fontsize=25)\n",
    "    plt.show()\n",
    "\n",
    "rangeSlider = widgets.FloatSlider(\n",
    "    value = .95,\n",
    "    min = .1,\n",
    "    max = .99,\n",
    "    step = .01,\n",
    "    description = 'Confidence',\n",
    "    continuous_update = True\n",
    ")\n",
    "\n",
    "interact(inner_ci_graph, conf=rangeSlider);"
   ]
  },
  {
   "cell_type": "markdown",
   "metadata": {},
   "source": [
    "But\n",
    "\n",
    "$$Z = \\frac{\\bar X - \\mu}{\\frac{\\sigma}{\\sqrt{n}}} \\sim N(0, 1)$$\n",
    "\n",
    "so\n",
    "\n",
    "$$\\mathrm P\\left(\n",
    "    -\\chi_{\\frac{1+\\alpha}{2}} < Z < \\chi_{\\frac{1+\\alpha}{2}}\n",
    "  \\right) = \n",
    "  \\mathrm P\\left(\n",
    "    \\bar X -\\chi_{\\frac{1+\\alpha}{2}} \\frac{\\sigma}{\\sqrt{n}} <\n",
    "    \\mu < \\bar X + \\chi_{\\frac{1+\\alpha}{2}} \\frac{\\sigma}{\\sqrt{n}}\n",
    "  \\right) $$"
   ]
  },
  {
   "cell_type": "markdown",
   "metadata": {},
   "source": [
    "Summing up\n",
    "\n",
    "$$\\mathrm P\\left(\n",
    "    \\bar X -\\chi_{\\frac{1+\\alpha}{2}} \\frac{\\sigma}{\\sqrt{n}} <\n",
    "    \\mu < \\bar X + \\chi_{\\frac{1+\\alpha}{2}} \\frac{\\sigma}{\\sqrt{n}}\n",
    "  \\right) = \\alpha $$\n",
    "  \n",
    "Thus\n",
    "\n",
    "$$\\left(\\bar X -\\chi_{\\frac{1+\\alpha}{2}} \\frac{\\sigma}{\\sqrt{n}},\n",
    "       \\bar X + \\chi_{\\frac{1+\\alpha}{2}} \\frac{\\sigma}{\\sqrt{n}}\\right)$$\n",
    "\n",
    "is a _confidence interval_ for $\\mu$"
   ]
  },
  {
   "cell_type": "markdown",
   "metadata": {},
   "source": [
    "Let's replace $\\alpha$ by $1 - \\delta$:\n",
    "\n",
    "$$ \\mathrm P \\left(|Z| < \\chi_{\\frac{1+\\alpha}{2}} \\right) = \\alpha $$\n",
    "\n",
    "translates to\n",
    "\n",
    "$$ \\mathrm P \\left(|Z| < \\chi_{1-\\frac{\\delta}{2}} \\right) = 1-\\delta $$\n",
    "\n",
    "and $\\chi_{1-\\frac{\\delta}{2}} = - \\chi_{\\frac{\\delta}{2}}$, thus\n",
    "\n",
    "$$ \\mathrm P\\left(\n",
    "     \\bar X +\\chi_{\\frac{\\alpha}{2}} \\frac{\\sigma}{\\sqrt{n}} <\n",
    "     \\mu < \\bar X - \\chi_{\\frac{\\alpha}{2}} \\frac{\\sigma}{\\sqrt{n}}\n",
    "   \\right) = 1-\\delta $$\n",
    "  \n",
    "Formally speaking\n",
    "\n",
    "$$ \\left(\n",
    "     \\bar X +\\chi_{\\frac{\\alpha}{2}} \\frac{\\sigma}{\\sqrt{n}},\n",
    "     \\bar X - \\chi_{\\frac{\\alpha}{2}} \\frac{\\sigma}{\\sqrt{n}}\n",
    "   \\right) = 1-\\delta $$\n",
    "\n",
    "is a _confidence interval_ for $\\mu = \\mathcal E(X)$:\n",
    "\n",
    "- $1-\\delta$: _confidence_ of the interval,\n",
    "- $\\delta$: _confidence level_ of the interval.\n",
    "\n",
    "Let's synthesize some data and play around. Pretend these constitute a normally-distributed population of martian heigth, measured in a suitable unit:"
   ]
  },
  {
   "cell_type": "code",
   "execution_count": 74,
   "metadata": {},
   "outputs": [
    {
     "data": {
      "text/html": [
       "<div>\n",
       "<style scoped>\n",
       "    .dataframe tbody tr th:only-of-type {\n",
       "        vertical-align: middle;\n",
       "    }\n",
       "\n",
       "    .dataframe tbody tr th {\n",
       "        vertical-align: top;\n",
       "    }\n",
       "\n",
       "    .dataframe thead th {\n",
       "        text-align: right;\n",
       "    }\n",
       "</style>\n",
       "<table border=\"1\" class=\"dataframe\">\n",
       "  <thead>\n",
       "    <tr style=\"text-align: right;\">\n",
       "      <th></th>\n",
       "      <th>Martian height</th>\n",
       "    </tr>\n",
       "  </thead>\n",
       "  <tbody>\n",
       "    <tr>\n",
       "      <th>0</th>\n",
       "      <td>1234.877356</td>\n",
       "    </tr>\n",
       "    <tr>\n",
       "      <th>1</th>\n",
       "      <td>1201.003564</td>\n",
       "    </tr>\n",
       "    <tr>\n",
       "      <th>2</th>\n",
       "      <td>1179.351141</td>\n",
       "    </tr>\n",
       "    <tr>\n",
       "      <th>3</th>\n",
       "      <td>1297.584249</td>\n",
       "    </tr>\n",
       "    <tr>\n",
       "      <th>4</th>\n",
       "      <td>1185.416008</td>\n",
       "    </tr>\n",
       "  </tbody>\n",
       "</table>\n",
       "</div>"
      ],
      "text/plain": [
       "   Martian height\n",
       "0     1234.877356\n",
       "1     1201.003564\n",
       "2     1179.351141\n",
       "3     1297.584249\n",
       "4     1185.416008"
      ]
     },
     "execution_count": 74,
     "metadata": {},
     "output_type": "execute_result"
    }
   ],
   "source": [
    "mu = 1200\n",
    "sigma = 37\n",
    "n = 1000\n",
    "X = st.norm(mu, sigma)\n",
    "population = pd.DataFrame(X.rvs(n), columns=['Martian height'])\n",
    "population.head()"
   ]
  },
  {
   "cell_type": "markdown",
   "metadata": {},
   "source": [
    "For sake of simplicity, let's also build a function computing generic confidence intervals for the mean of a gaussian variable."
   ]
  },
  {
   "cell_type": "code",
   "execution_count": 61,
   "metadata": {},
   "outputs": [],
   "source": [
    "def ci_mu_norm(sigma, delta, sample):\n",
    "    Z = st.norm()\n",
    "    x_bar = sample.mean()\n",
    "    chi = Z.ppf(delta/2)\n",
    "    n = len(sample)\n",
    "    confidence_interval = (x_bar + chi * sigma / math.sqrt(n),\n",
    "                           x_bar - chi * sigma / math.sqrt(n))\n",
    "\n",
    "    return confidence_interval"
   ]
  },
  {
   "cell_type": "markdown",
   "metadata": {},
   "source": [
    "Just to check out that everything works, we can sample 30 martians and see what happens."
   ]
  },
  {
   "cell_type": "code",
   "execution_count": 75,
   "metadata": {},
   "outputs": [
    {
     "name": "stdout",
     "output_type": "stream",
     "text": [
      "(1180.832629117599, 1207.312702444613)\n"
     ]
    }
   ],
   "source": [
    "sample = population['Martian height'].sample(30)\n",
    "ci = ci_mu_norm(sigma, 0.05, sample)\n",
    "print(ci)"
   ]
  },
  {
   "cell_type": "markdown",
   "metadata": {},
   "source": [
    "I've also defined a `show_sample_and_ci` function showing sample, confidence interval, and mean to be estimated (click the three dots here below if you are curioius)."
   ]
  },
  {
   "cell_type": "code",
   "execution_count": 102,
   "metadata": {},
   "outputs": [],
   "source": [
    "def show_sample_and_ci(sample, ci, mu):\n",
    "    n = len(sample)\n",
    "    plt.plot(sample, [0]*n, 'o', ms=4, alpha=0.5)\n",
    "    plt.plot((sample.min(), sample.max()), (0,0))\n",
    "    plt.plot(ci, (0, 0), c='b', linewidth=4)\n",
    "    plt.plot(2*[ci[0]], (-.01, .01), c='b')\n",
    "    plt.plot(2*[ci[1]], (-.01, .01), c='b')\n",
    "    plt.plot(2*[mu], (-.05, .05), c='r')\n",
    "    plt.ylim(-.2, .2)\n",
    "    plt.xlim(1150, 1250)\n",
    "    plt.show()"
   ]
  },
  {
   "cell_type": "code",
   "execution_count": 103,
   "metadata": {},
   "outputs": [
    {
     "data": {
      "image/png": "[encoded data removed]",
      "text/plain": [
       "<matplotlib.figure.Figure at 0x1a1a182b70>"
      ]
     },
     "metadata": {},
     "output_type": "display_data"
    }
   ],
   "source": [
    "show_sample_and_ci(sample, ci, mu)"
   ]
  },
  {
   "cell_type": "code",
   "execution_count": 104,
   "metadata": {},
   "outputs": [
    {
     "data": {
      "text/plain": [
       "True"
      ]
     },
     "execution_count": 104,
     "metadata": {},
     "output_type": "execute_result"
    }
   ],
   "source": [
    "ci[0] <= mu <= ci[1]"
   ]
  },
  {
   "cell_type": "markdown",
   "metadata": {},
   "source": [
    "What happens if we repeatedly sample and build a confidence interval?"
   ]
  },
  {
   "cell_type": "code",
   "execution_count": 160,
   "metadata": {},
   "outputs": [
    {
     "data": {
      "application/vnd.jupyter.widget-view+json": {
       "model_id": "6ae68edbd3594a9fb681773cde210502",
       "version_major": 2,
       "version_minor": 0
      },
      "text/html": [
       "<p>Failed to display Jupyter Widget of type <code>VBox</code>.</p>\n",
       "<p>\n",
       "  If you're reading this message in the Jupyter Notebook or JupyterLab Notebook, it may mean\n",
       "  that the widgets JavaScript is still loading. If this message persists, it\n",
       "  likely means that the widgets JavaScript library is either not installed or\n",
       "  not enabled. See the <a href=\"https://ipywidgets.readthedocs.io/en/stable/user_install.html\">Jupyter\n",
       "  Widgets Documentation</a> for setup instructions.\n",
       "</p>\n",
       "<p>\n",
       "  If you're reading this message in another frontend (for example, a static\n",
       "  rendering on GitHub or <a href=\"https://nbviewer.jupyter.org/\">NBViewer</a>),\n",
       "  it may mean that your frontend doesn't currently support widgets.\n",
       "</p>\n"
      ],
      "text/plain": [
       "VBox(children=(Button(description='Once again!', style=ButtonStyle()), Output()))"
      ]
     },
     "metadata": {},
     "output_type": "display_data"
    }
   ],
   "source": [
    "btn = widgets.Button(description=\"Once again!\")\n",
    "out = widgets.Output()\n",
    "\n",
    "def sample_and_compute(b):\n",
    "    sample = population['Martian height'].sample(30)\n",
    "    ci = ci_mu_norm(sigma, 0.05, sample)\n",
    "    with out:\n",
    "        clear_output()\n",
    "        show_sample_and_ci(sample, ci, mu)\n",
    "\n",
    "btn.on_click(sample_and_compute)\n",
    "sample_and_compute(btn)\n",
    "widgets.VBox([btn, out])"
   ]
  },
  {
   "cell_type": "markdown",
   "metadata": {},
   "source": [
    "We can now give a frequentistic interpretatation of the event\n",
    "\n",
    "$$\\bar X -\\chi_{\\frac{1+\\alpha}{2}} \\frac{\\sigma}{\\sqrt{n}} <\n",
    "    \\mu < \\bar X + \\chi_{\\frac{1+\\alpha}{2}} \\frac{\\sigma}{\\sqrt{n}}$$"
   ]
  },
  {
   "cell_type": "code",
   "execution_count": 147,
   "metadata": {},
   "outputs": [
    {
     "name": "stdout",
     "output_type": "stream",
     "text": [
      "(1172.4074434055453, 1198.8875167325593)\n",
      "(1207.6370129117993, 1234.1170862388133)\n"
     ]
    }
   ],
   "source": [
    "for _ in range(100):\n",
    "    sample = population['Martian height'].sample(30)\n",
    "    ci = ci_mu_norm(sigma, 0.05, sample)\n",
    "    if not ci[0] <= mu <= ci[1]:\n",
    "        print(ci)"
   ]
  },
  {
   "cell_type": "markdown",
   "metadata": {},
   "source": [
    "Thus $\\delta$ represents the average number of times, in a long run, that the confidence interval does not contain the parameter to be inferred.\n",
    "\n",
    "Advantage of the interval-based estimate over the point-based one:\n",
    "\n",
    "- the interval length gives an idea of the indetermination,\n",
    "- it obviously depends on the distribution under study and on sample size."
   ]
  },
  {
   "cell_type": "code",
   "execution_count": 163,
   "metadata": {
    "hide_input": true
   },
   "outputs": [
    {
     "data": {
      "application/vnd.jupyter.widget-view+json": {
       "model_id": "3cc43d6e5a054c72a38e82911054a9d4",
       "version_major": 2,
       "version_minor": 0
      },
      "text/html": [
       "<p>Failed to display Jupyter Widget of type <code>interactive</code>.</p>\n",
       "<p>\n",
       "  If you're reading this message in the Jupyter Notebook or JupyterLab Notebook, it may mean\n",
       "  that the widgets JavaScript is still loading. If this message persists, it\n",
       "  likely means that the widgets JavaScript library is either not installed or\n",
       "  not enabled. See the <a href=\"https://ipywidgets.readthedocs.io/en/stable/user_install.html\">Jupyter\n",
       "  Widgets Documentation</a> for setup instructions.\n",
       "</p>\n",
       "<p>\n",
       "  If you're reading this message in another frontend (for example, a static\n",
       "  rendering on GitHub or <a href=\"https://nbviewer.jupyter.org/\">NBViewer</a>),\n",
       "  it may mean that your frontend doesn't currently support widgets.\n",
       "</p>\n"
      ],
      "text/plain": [
       "interactive(children=(IntSlider(value=30, description='Sample size', max=205, min=10, step=5), Output()), _dom_classes=('widget-interact',))"
      ]
     },
     "metadata": {},
     "output_type": "display_data"
    }
   ],
   "source": [
    "def ci_vs_sample_size(n):\n",
    "    sample = population['Martian height'].sample(n)\n",
    "    ci = ci_mu_norm(sigma, 0.05, sample)\n",
    "    show_sample_and_ci(sample, ci, mu)\n",
    "\n",
    "sizeSlider = widgets.IntSlider(\n",
    "    value = 30,\n",
    "    min = 10,\n",
    "    max = 205,\n",
    "    step = 5,\n",
    "    description = 'Sample size',\n",
    "    continuous_update = True\n",
    ")\n",
    "\n",
    "interact(ci_vs_sample_size, n=sizeSlider);"
   ]
  },
  {
   "cell_type": "markdown",
   "metadata": {},
   "source": [
    "In a real-world scenario $\\sigma$ is not known. Thus, instead of\n",
    "\n",
    "$$\\frac{\\bar X - \\mu}{\\frac{\\sigma}{\\sqrt{n}}}$$\n",
    "\n",
    "use\n",
    "\n",
    "$$\\frac{\\bar X - \\mu}{\\frac{S}{\\sqrt{n}}},$$\n",
    "\n",
    "$S$ being the sample standard deviation, defined by\n",
    "\n",
    "$$\n",
    "S^2 = \\frac{1}{n-1} \\sum_{i=1}^n \\left( X_i - \\bar X \\right)^2\n",
    "$$"
   ]
  },
  {
   "cell_type": "markdown",
   "metadata": {},
   "source": [
    "Is the resulting statistic still normal?\n",
    "\n",
    "Short answer: no."
   ]
  },
  {
   "cell_type": "code",
   "execution_count": 165,
   "metadata": {},
   "outputs": [
    {
     "ename": "ModuleNotFoundError",
     "evalue": "No module named 'statsmodels'",
     "output_type": "error",
     "traceback": [
      "\u001b[0;31m---------------------------------------------------------------------------\u001b[0m",
      "\u001b[0;31mModuleNotFoundError\u001b[0m                       Traceback (most recent call last)",
      "\u001b[0;32m<ipython-input-165-0c75c6cac01b>\u001b[0m in \u001b[0;36m<module>\u001b[0;34m()\u001b[0m\n\u001b[1;32m      9\u001b[0m \u001b[0mt_vals\u001b[0m \u001b[0;34m=\u001b[0m \u001b[0mmap\u001b[0m\u001b[0;34m(\u001b[0m\u001b[0mt_stat\u001b[0m\u001b[0;34m,\u001b[0m \u001b[0msamples\u001b[0m\u001b[0;34m)\u001b[0m\u001b[0;34m\u001b[0m\u001b[0m\n\u001b[1;32m     10\u001b[0m \u001b[0;34m\u001b[0m\u001b[0m\n\u001b[0;32m---> 11\u001b[0;31m \u001b[0;32mimport\u001b[0m \u001b[0mstatsmodels\u001b[0m\u001b[0;34m.\u001b[0m\u001b[0mapi\u001b[0m \u001b[0;32mas\u001b[0m \u001b[0msm\u001b[0m\u001b[0;34m\u001b[0m\u001b[0m\n\u001b[0m\u001b[1;32m     12\u001b[0m \u001b[0;34m\u001b[0m\u001b[0m\n\u001b[1;32m     13\u001b[0m \u001b[0mecdf\u001b[0m \u001b[0;34m=\u001b[0m \u001b[0msm\u001b[0m\u001b[0;34m.\u001b[0m\u001b[0mdistributions\u001b[0m\u001b[0;34m.\u001b[0m\u001b[0mECDF\u001b[0m\u001b[0;34m(\u001b[0m\u001b[0mt_vals\u001b[0m\u001b[0;34m)\u001b[0m\u001b[0;34m\u001b[0m\u001b[0m\n",
      "\u001b[0;31mModuleNotFoundError\u001b[0m: No module named 'statsmodels'"
     ]
    }
   ],
   "source": [
    "def t_stat(sample):\n",
    "    x_bar = sample.mean()\n",
    "    s = sample.std()\n",
    "    return x_bar / s * len(sample)**0.5\n",
    "\n",
    "Z = st.norm()\n",
    "n = 5000\n",
    "samples = np.split(Z.rvs(4*n), n)\n",
    "t_vals = map(t_stat, samples)\n",
    "\n",
    "import statsmodels.api as sm\n",
    "\n",
    "ecdf = sm.distributions.ECDF(t_vals)\n",
    "x = np.arange(-4, 4, 0.1)\n",
    "y = ecdf(x)\n",
    "plt.step(x, y)\n",
    "plt.plot(x, Z.cdf(x))\n",
    "plt.show()"
   ]
  },
  {
   "cell_type": "code",
   "execution_count": null,
   "metadata": {},
   "outputs": [],
   "source": [
    "import sta"
   ]
  },
  {
   "cell_type": "code",
   "execution_count": null,
   "metadata": {},
   "outputs": [],
   "source": [
    "def t_graph(n):\n",
    "    T = st.t(n)\n",
    "    Z = st.norm()\n",
    "    xs = np.arange(-4, 4, 0.1)\n",
    "    plt.plot(xs, T.pdf(xs))\n",
    "    plt.plot(xs, Z.pdf(xs), alpha=0.4, c='b', linewidth=3)\n",
    "    plt.ylim(0, 0.4)\n",
    "    plt.show()\n",
    "\n",
    "interact(t_graph, n=widgets.IntSlider(\n",
    "    value = 4,\n",
    "    min = 1,\n",
    "    max = 30,\n",
    "    description = 'Degrees of freedom',\n",
    "    continuous_update = True\n",
    "));"
   ]
  },
  {
   "cell_type": "code",
   "execution_count": null,
   "metadata": {},
   "outputs": [],
   "source": []
  }
 ],
 "metadata": {
  "kernelspec": {
   "display_name": "Python 3",
   "language": "python",
   "name": "python3"
  },
  "language_info": {
   "codemirror_mode": {
    "name": "ipython",
    "version": 3
   },
   "file_extension": ".py",
   "mimetype": "text/x-python",
   "name": "python",
   "nbconvert_exporter": "python",
   "pygments_lexer": "ipython3",
   "version": "3.5.4"
  },
  "latex_envs": {
   "LaTeX_envs_menu_present": true,
   "autocomplete": true,
   "bibliofile": "biblio.bib",
   "cite_by": "apalike",
   "current_citInitial": 1,
   "eqLabelWithNumbers": true,
   "eqNumInitial": 1,
   "hotkeys": {
    "equation": "Ctrl-E",
    "itemize": "Ctrl-I"
   },
   "labels_anchors": false,
   "latex_user_defs": false,
   "report_style_numbering": false,
   "user_envs_cfg": false
  }
 },
 "nbformat": 4,
 "nbformat_minor": 2
}
