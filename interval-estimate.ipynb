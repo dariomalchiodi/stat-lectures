{
 "cells": [
  {
   "cell_type": "markdown",
   "metadata": {
    "slideshow": {
     "slide_type": "slide"
    }
   },
   "source": [
    "# Fiducial intervals"
   ]
  },
  {
   "cell_type": "markdown",
   "metadata": {},
   "source": [
    "$$\\{ X_1, \\dots, X_n\\} \\text{ sample from } X\\sim N(\\mu, \\sigma)$$\n",
    "\n",
    "$$\\bar X = \\frac{1}{n}\\sum_{i=1}^n X_i \\sim N\\left(\\mu, \\frac{\\sigma}{\\sqrt{n}}\\right)$$\n",
    "\n",
    "$$Z = \\frac{\\bar X - \\mu}{\\frac{\\sigma}{\\sqrt{n}}} \\sim N(0, 1)$$\n",
    "\n",
    "Fixed $\\alpha$, find $z$ such that\n",
    "\n",
    "$$\\mathrm P(|Z|<z) = \\alpha $$"
   ]
  },
  {
   "cell_type": "code",
   "execution_count": 30,
   "metadata": {},
   "outputs": [
    {
     "data": {
      "application/vnd.jupyter.widget-view+json": {
       "model_id": "e6700180dbd547cca56856e961fb7e42"
      }
     },
     "metadata": {},
     "output_type": "display_data"
    }
   ],
   "source": [
    "%matplotlib inline\n",
    "\n",
    "import scipy.stats as st\n",
    "import pandas as pd\n",
    "import math\n",
    "import matplotlib.pyplot as plt\n",
    "import numpy as np\n",
    "from ipywidgets import widgets, interact\n",
    "\n",
    "def ci_graph(conf):\n",
    "    Z = st.norm()\n",
    "    q = Z.ppf(1-(1-conf)/2)\n",
    "    xs = np.arange(-q, q+.1, .1)\n",
    "    plt.plot(xs, Z.pdf(xs))\n",
    "    left_tail = np.arange(-3, -q+.1, .1)\n",
    "    right_tail = np.arange(q, 3, .1)\n",
    "    plt.fill_between(right_tail, 0, Z.pdf(right_tail), facecolor='lightblue')\n",
    "    plt.fill_between(left_tail, 0, Z.pdf(left_tail), facecolor='lightblue')\n",
    "    plt.title('$z = {:.2f}$'.format(q))\n",
    "    plt.show()\n",
    "\n",
    "rangeSlider = widgets.FloatSlider(\n",
    "    value = .95,\n",
    "    min = .1,\n",
    "    max = .99,\n",
    "    step = .01,\n",
    "    description = 'Confidence',\n",
    "    continuous_update = False\n",
    ")\n",
    "\n",
    "interact(ci_graph, conf=rangeSlider);"
   ]
  },
  {
   "cell_type": "markdown",
   "metadata": {},
   "source": [
    "Let $\\chi_p = \\Phi^{-1}(p)$ denote the $p$ quantile of $Z$\n",
    "\n",
    "The answer is\n",
    "\n",
    "$$ z = \\chi_{1-\\frac{1-\\alpha}{2}} = \\chi_{\\frac{1+\\alpha}{2}} $$"
   ]
  },
  {
   "cell_type": "code",
   "execution_count": 46,
   "metadata": {},
   "outputs": [
    {
     "data": {
      "text/html": [
       "<style>\n",
       "table#id201453 tr :first-child{display: none;}\n",
       "</style><table id=id201453  border=\"1\" class=\"dataframe\">\n",
       "  <thead>\n",
       "    <tr style=\"text-align: right;\">\n",
       "      <th></th>\n",
       "      <th>alpha</th>\n",
       "      <th>z</th>\n",
       "    </tr>\n",
       "  </thead>\n",
       "  <tbody>\n",
       "    <tr>\n",
       "      <th>0</th>\n",
       "      <td>0.50</td>\n",
       "      <td>0.67</td>\n",
       "    </tr>\n",
       "    <tr>\n",
       "      <th>1</th>\n",
       "      <td>0.55</td>\n",
       "      <td>0.76</td>\n",
       "    </tr>\n",
       "    <tr>\n",
       "      <th>2</th>\n",
       "      <td>0.60</td>\n",
       "      <td>0.84</td>\n",
       "    </tr>\n",
       "    <tr>\n",
       "      <th>3</th>\n",
       "      <td>0.65</td>\n",
       "      <td>0.93</td>\n",
       "    </tr>\n",
       "    <tr>\n",
       "      <th>4</th>\n",
       "      <td>0.70</td>\n",
       "      <td>1.04</td>\n",
       "    </tr>\n",
       "    <tr>\n",
       "      <th>5</th>\n",
       "      <td>0.75</td>\n",
       "      <td>1.15</td>\n",
       "    </tr>\n",
       "    <tr>\n",
       "      <th>6</th>\n",
       "      <td>0.80</td>\n",
       "      <td>1.28</td>\n",
       "    </tr>\n",
       "    <tr>\n",
       "      <th>7</th>\n",
       "      <td>0.85</td>\n",
       "      <td>1.44</td>\n",
       "    </tr>\n",
       "    <tr>\n",
       "      <th>8</th>\n",
       "      <td>0.90</td>\n",
       "      <td>1.64</td>\n",
       "    </tr>\n",
       "    <tr>\n",
       "      <th>9</th>\n",
       "      <td>0.95</td>\n",
       "      <td>1.96</td>\n",
       "    </tr>\n",
       "  </tbody>\n",
       "</table>"
      ],
      "text/plain": [
       "<IPython.core.display.HTML object>"
      ]
     },
     "execution_count": 46,
     "metadata": {},
     "output_type": "execute_result"
    }
   ],
   "source": [
    "def HTML_with_style(df, style=None, random_id=None):\n",
    "    from IPython.display import HTML\n",
    "    import numpy as np\n",
    "    import re\n",
    "\n",
    "    df_html = df.to_html()\n",
    "\n",
    "    if random_id is None:\n",
    "        random_id = 'id%d' % np.random.choice(np.arange(1000000))\n",
    "\n",
    "    if style is None:\n",
    "        style = \"\"\"\n",
    "        <style>\n",
    "            table#{random_id} {{color: blue}}\n",
    "        </style>\n",
    "        \"\"\".format(random_id=random_id)\n",
    "    else:\n",
    "        new_style = []\n",
    "        s = re.sub(r'</?style>', '', style).strip()\n",
    "        for line in s.split('\\n'):\n",
    "                line = line.strip()\n",
    "                if not re.match(r'^table', line):\n",
    "                    line = re.sub(r'^', 'table ', line)\n",
    "                new_style.append(line)\n",
    "        new_style = ['<style>'] + new_style + ['</style>']\n",
    "\n",
    "        style = re.sub(r'table(#\\S+)?', 'table#%s' % random_id, '\\n'.join(new_style))\n",
    "\n",
    "    df_html = re.sub(r'<table', r'<table id=%s ' % random_id, df_html)\n",
    "\n",
    "    return HTML(style + df_html)\n",
    "\n",
    "style = \"\"\"\n",
    "<style>\n",
    "    table tr :first-child{display: none;}\n",
    "</style>\n",
    "\"\"\"\n",
    "\n",
    "Z = st.norm()\n",
    "HTML_with_style(pd.DataFrame([('{:.2f}'.format(alpha),\n",
    "  '{:.2f}'.format(Z.ppf((1+alpha)/2))) for alpha in np.arange(.5, 1, .05)],\n",
    "            columns=['alpha', 'z']),\n",
    "                style)"
   ]
  },
  {
   "cell_type": "markdown",
   "metadata": {},
   "source": [
    "$$\\mathrm P(-\\chi_{\\frac{1+\\alpha}{2}} < Z < \\chi_{\\frac{1+\\alpha}{2}}) = 1 - \\alpha $$"
   ]
  },
  {
   "cell_type": "code",
   "execution_count": 55,
   "metadata": {},
   "outputs": [
    {
     "data": {
      "application/vnd.jupyter.widget-view+json": {
       "model_id": "b67dc993c71c43388bb55a6844649263"
      }
     },
     "metadata": {},
     "output_type": "display_data"
    }
   ],
   "source": [
    "def inner_ci_graph(conf):\n",
    "    Z = st.norm()\n",
    "    q = Z.ppf(1-(1-conf)/2)\n",
    "    xs = np.arange(-q, q+.1, .1)\n",
    "    plt.fill_between(xs, 0, Z.pdf(xs), facecolor='lightblue')\n",
    "    left_tail = np.arange(-3, -q+.1, .1)\n",
    "    right_tail = np.arange(q, 3, .1)\n",
    "    plt.plot(right_tail, Z.pdf(right_tail))\n",
    "    plt.plot(left_tail, Z.pdf(left_tail))\n",
    "    plt.title('$ P({:.2f} < Z < {:.2f}) = {:.2f}$'.format(-q, q, conf))\n",
    "    plt.show()\n",
    "\n",
    "rangeSlider = widgets.FloatSlider(\n",
    "    value = .95,\n",
    "    min = .1,\n",
    "    max = .99,\n",
    "    step = .01,\n",
    "    description = 'Confidence',\n",
    "    continuous_update = False\n",
    ")\n",
    "\n",
    "interact(inner_ci_graph, conf=rangeSlider);"
   ]
  },
  {
   "cell_type": "markdown",
   "metadata": {},
   "source": [
    "But\n",
    "\n",
    "$$Z = \\frac{\\bar X - \\mu}{\\frac{\\sigma}{\\sqrt{n}}} \\sim N(0, 1)$$\n",
    "\n",
    "so\n",
    "\n",
    "$$\\mathrm P\\left(\n",
    "    -\\chi_{\\frac{1+\\alpha}{2}} < Z < \\chi_{\\frac{1+\\alpha}{2}}\n",
    "  \\right) = \n",
    "  \\mathrm P\\left(\n",
    "    \\bar X -\\chi_{\\frac{1+\\alpha}{2}} \\frac{\\sigma}{\\sqrt{n}} <\n",
    "    \\mu < \\bar X + \\chi_{\\frac{1+\\alpha}{2}} \\frac{\\sigma}{\\sqrt{n}}\n",
    "  \\right) $$"
   ]
  },
  {
   "cell_type": "markdown",
   "metadata": {},
   "source": [
    "Summing up\n",
    "\n",
    "$$\\mathrm P\\left(\n",
    "    \\bar X -\\chi_{\\frac{1+\\alpha}{2}} \\frac{\\sigma}{\\sqrt{n}} <\n",
    "    \\mu < \\bar X + \\chi_{\\frac{1+\\alpha}{2}} \\frac{\\sigma}{\\sqrt{n}}\n",
    "  \\right) = \\alpha $$\n",
    "  \n",
    "Thus\n",
    "\n",
    "$$\\left(\\bar X -\\chi_{\\frac{1+\\alpha}{2}} \\frac{\\sigma}{\\sqrt{n}},\n",
    "       \\bar X + \\chi_{\\frac{1+\\alpha}{2}} \\frac{\\sigma}{\\sqrt{n}}\\right)$$\n",
    "\n",
    "is a $\\alpha$-confidence interval for $\\mu$"
   ]
  },
  {
   "cell_type": "code",
   "execution_count": 68,
   "metadata": {},
   "outputs": [],
   "source": [
    "mu = 1200\n",
    "sigma = 37\n",
    "n = 30\n",
    "X = st.norm(mu, sigma)"
   ]
  },
  {
   "cell_type": "code",
   "execution_count": 69,
   "metadata": {},
   "outputs": [
    {
     "data": {
      "text/html": [
       "<div>\n",
       "<table border=\"1\" class=\"dataframe\">\n",
       "  <thead>\n",
       "    <tr style=\"text-align: right;\">\n",
       "      <th></th>\n",
       "      <th>Martian height</th>\n",
       "    </tr>\n",
       "  </thead>\n",
       "  <tbody>\n",
       "    <tr>\n",
       "      <th>0</th>\n",
       "      <td>1171.315354</td>\n",
       "    </tr>\n",
       "    <tr>\n",
       "      <th>1</th>\n",
       "      <td>1227.380840</td>\n",
       "    </tr>\n",
       "    <tr>\n",
       "      <th>2</th>\n",
       "      <td>1203.516290</td>\n",
       "    </tr>\n",
       "    <tr>\n",
       "      <th>3</th>\n",
       "      <td>1158.355690</td>\n",
       "    </tr>\n",
       "    <tr>\n",
       "      <th>4</th>\n",
       "      <td>1158.515871</td>\n",
       "    </tr>\n",
       "  </tbody>\n",
       "</table>\n",
       "</div>"
      ],
      "text/plain": [
       "   Martian height\n",
       "0     1171.315354\n",
       "1     1227.380840\n",
       "2     1203.516290\n",
       "3     1158.355690\n",
       "4     1158.515871"
      ]
     },
     "execution_count": 69,
     "metadata": {},
     "output_type": "execute_result"
    }
   ],
   "source": [
    "sample = pd.DataFrame(X.rvs(n), columns=['Martian height'])\n",
    "sample.head()"
   ]
  },
  {
   "cell_type": "code",
   "execution_count": 70,
   "metadata": {},
   "outputs": [
    {
     "name": "stdout",
     "output_type": "stream",
     "text": [
      "(1186.7169992958823, 1213.1970726228963)\n"
     ]
    }
   ],
   "source": [
    "Z = st.norm()\n",
    "x_bar = sample['Martian height'].mean()\n",
    "alpha = 0.95\n",
    "chi = Z.ppf((1+alpha)/2)\n",
    "confidence_interval = (x_bar - chi * sigma / math.sqrt(n),\n",
    "                       x_bar + chi * sigma / math.sqrt(n))\n",
    "\n",
    "print confidence_interval"
   ]
  },
  {
   "cell_type": "code",
   "execution_count": 90,
   "metadata": {},
   "outputs": [
    {
     "data": {
      "image/png": "[encoded data removed]",
      "text/plain": [
       "<matplotlib.figure.Figure at 0x1f1072d910>"
      ]
     },
     "metadata": {},
     "output_type": "display_data"
    }
   ],
   "source": [
    "plt.plot(sample['Martian height'], [0]*n, 'o', ms=4, alpha=0.5)\n",
    "plt.plot((sample['Martian height'].min(), sample['Martian height'].max()), (0,0))\n",
    "plt.plot(confidence_interval, (0, 0), c='b', linewidth=4)\n",
    "plt.plot(2*[confidence_interval[0]], (-.01, .01), c='b')\n",
    "plt.plot(2*[confidence_interval[1]], (-.01, .01), c='b')\n",
    "plt.plot(2*[mu], (-.05, .05), c='r')\n",
    "plt.ylim(-.2, .2)\n",
    "plt.show()"
   ]
  },
  {
   "cell_type": "code",
   "execution_count": 88,
   "metadata": {},
   "outputs": [
    {
     "data": {
      "text/plain": [
       "True"
      ]
     },
     "execution_count": 88,
     "metadata": {},
     "output_type": "execute_result"
    }
   ],
   "source": [
    "confidence_interval[0] <= mu <= confidence_interval[1]"
   ]
  },
  {
   "cell_type": "markdown",
   "metadata": {},
   "source": [
    "Frequentistic interpretatation of the event\n",
    "\n",
    "$$\\bar X -\\chi_{\\frac{1+\\alpha}{2}} \\frac{\\sigma}{\\sqrt{n}} <\n",
    "    \\mu < \\bar X + \\chi_{\\frac{1+\\alpha}{2}} \\frac{\\sigma}{\\sqrt{n}}$$"
   ]
  },
  {
   "cell_type": "code",
   "execution_count": 91,
   "metadata": {},
   "outputs": [],
   "source": [
    "def ci_mu_norm(mu, sigma, alpha, n):\n",
    "    X = st.norm(mu, sigma)\n",
    "    sample = X.rvs(n)\n",
    "    chi = Z.ppf((1+alpha)/2)\n",
    "    x_bar = sample.mean()\n",
    "    ci = (x_bar - chi * sigma / math.sqrt(n),\n",
    "          x_bar + chi * sigma / math.sqrt(n))\n",
    "    return ci"
   ]
  },
  {
   "cell_type": "code",
   "execution_count": 100,
   "metadata": {},
   "outputs": [
    {
     "name": "stdout",
     "output_type": "stream",
     "text": [
      "(1204.9249374981764, 1239.7256529061447)\n"
     ]
    }
   ],
   "source": [
    "for _ in range(100):\n",
    "    ci = ci_mu_norm(mu, sigma, 0.99, n)\n",
    "    if not ci[0] <= mu <= ci[1]:\n",
    "        print ci"
   ]
  },
  {
   "cell_type": "markdown",
   "metadata": {},
   "source": [
    "For a more compact notation, let's denote by $1 - \\delta$ the confidence value.\n",
    "\n",
    "$$ \\mathrm P \\left(|Z| < \\chi_{\\frac{1+\\alpha}{2}} \\right) = \\alpha $$\n",
    "\n",
    "translates to\n",
    "\n",
    "$$ \\mathrm P \\left(|Z| < \\chi_{\\frac{\\delta}{2}} \\right) = 1-\\delta $$"
   ]
  },
  {
   "cell_type": "markdown",
   "metadata": {},
   "source": [
    "$\\sigma$ is supposed to be known\n",
    "\n",
    "should this not be the case?\n",
    "\n",
    "Instead of\n",
    "\n",
    "$$\\frac{\\bar X - \\mu}{\\frac{\\sigma}{\\sqrt{n}}}$$\n",
    "\n",
    "use\n",
    "\n",
    "$$\\frac{\\bar X - \\mu}{\\frac{S}{\\sqrt{n}}},$$\n",
    "\n",
    "$S$ being the sample standard deviation."
   ]
  },
  {
   "cell_type": "markdown",
   "metadata": {},
   "source": [
    "Is the resulting statistic still normal?\n",
    "\n",
    "Short answer: no."
   ]
  },
  {
   "cell_type": "code",
   "execution_count": 128,
   "metadata": {},
   "outputs": [
    {
     "data": {
      "image/png": "[encoded data removed]",
      "text/plain": [
       "<matplotlib.figure.Figure at 0x1f12f94850>"
      ]
     },
     "metadata": {},
     "output_type": "display_data"
    }
   ],
   "source": [
    "def t_stat(sample):\n",
    "    x_bar = sample.mean()\n",
    "    s = sample.std()\n",
    "    return x_bar / s * len(sample)**0.5\n",
    "\n",
    "Z = st.norm()\n",
    "n = 5000\n",
    "samples = np.split(Z.rvs(4*n), n)\n",
    "t_vals = map(t_stat, samples)\n",
    "\n",
    "import statsmodels.api as sm\n",
    "\n",
    "ecdf = sm.distributions.ECDF(t_vals)\n",
    "x = np.arange(-4, 4, 0.1)\n",
    "y = ecdf(x)\n",
    "plt.step(x, y)\n",
    "plt.plot(x, Z.cdf(x))\n",
    "plt.show()"
   ]
  },
  {
   "cell_type": "code",
   "execution_count": 108,
   "metadata": {},
   "outputs": [
    {
     "data": {
      "application/vnd.jupyter.widget-view+json": {
       "model_id": "537ceb3f90f34533903b9fb9fd6ec6f6"
      }
     },
     "metadata": {},
     "output_type": "display_data"
    }
   ],
   "source": [
    "def t_graph(n):\n",
    "    T = st.t(n)\n",
    "    Z = st.norm()\n",
    "    xs = np.arange(-4, 4, 0.1)\n",
    "    plt.plot(xs, T.pdf(xs))\n",
    "    plt.plot(xs, Z.pdf(xs), alpha=0.4, c='b', linewidth=3)\n",
    "    plt.ylim(0, 0.4)\n",
    "    plt.show()\n",
    "\n",
    "interact(t_graph, n=widgets.IntSlider(\n",
    "    value = 4,\n",
    "    min = 1,\n",
    "    max = 30,\n",
    "    description = 'Degrees of freedom',\n",
    "    continuous_update = True\n",
    "));"
   ]
  }
 ],
 "metadata": {
  "celltoolbar": "Slideshow",
  "kernelspec": {
   "display_name": "Python 2",
   "language": "python",
   "name": "python2"
  },
  "language_info": {
   "codemirror_mode": {
    "name": "ipython",
    "version": 2
   },
   "file_extension": ".py",
   "mimetype": "text/x-python",
   "name": "python",
   "nbconvert_exporter": "python",
   "pygments_lexer": "ipython2",
   "version": "2.7.10"
  },
  "latex_envs": {
   "LaTeX_envs_menu_present": true,
   "autocomplete": true,
   "bibliofile": "biblio.bib",
   "cite_by": "apalike",
   "current_citInitial": 1,
   "eqLabelWithNumbers": true,
   "eqNumInitial": 1,
   "hotkeys": {
    "equation": "Ctrl-E",
    "itemize": "Ctrl-I"
   },
   "labels_anchors": false,
   "latex_user_defs": false,
   "report_style_numbering": false,
   "user_envs_cfg": false
  }
 },
 "nbformat": 4,
 "nbformat_minor": 2
}
