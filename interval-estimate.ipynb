{
 "cells": [
  {
   "cell_type": "markdown",
   "metadata": {},
   "source": [
    "# Interval analysis\n",
    "\n",
    "### Dario Malchiodi\n",
    "\n",
    "[malchiodi@di.unimi.it](mailto:malchiodi@di.unimi.it)\n",
    "\n",
    "## Starting point\n",
    "\n",
    "- **statistical inference**: having access to only a _part_ of a _population_ (a _sample_, what can be said about some properties of the latter?\n",
    "- **parametric inference**: how does the problem simplifies if we know the distribution of the population, except for one or more _parameters_?\n",
    "\n",
    "## First approach: point estimation\n",
    "\n",
    "Provide a numerical approximation for each parameter using a _statistic_, that is a function of the sample. Keeping it simple, we'll assume the existence of just one parameter to be inferred.\n",
    "\n",
    "Let's synthesize some data and play around. Pretend these constitute a normally-distributed population of martian heigth, measured in a suitable unit:"
   ]
  },
  {
   "cell_type": "code",
   "execution_count": 1,
   "metadata": {},
   "outputs": [
    {
     "data": {
      "text/html": [
       "<div>\n",
       "<style scoped>\n",
       "    .dataframe tbody tr th:only-of-type {\n",
       "        vertical-align: middle;\n",
       "    }\n",
       "\n",
       "    .dataframe tbody tr th {\n",
       "        vertical-align: top;\n",
       "    }\n",
       "\n",
       "    .dataframe thead th {\n",
       "        text-align: right;\n",
       "    }\n",
       "</style>\n",
       "<table border=\"1\" class=\"dataframe\">\n",
       "  <thead>\n",
       "    <tr style=\"text-align: right;\">\n",
       "      <th></th>\n",
       "      <th>Martian height</th>\n",
       "    </tr>\n",
       "  </thead>\n",
       "  <tbody>\n",
       "    <tr>\n",
       "      <th>0</th>\n",
       "      <td>1214.873193</td>\n",
       "    </tr>\n",
       "    <tr>\n",
       "      <th>1</th>\n",
       "      <td>1141.343183</td>\n",
       "    </tr>\n",
       "    <tr>\n",
       "      <th>2</th>\n",
       "      <td>1121.849623</td>\n",
       "    </tr>\n",
       "    <tr>\n",
       "      <th>3</th>\n",
       "      <td>1193.585393</td>\n",
       "    </tr>\n",
       "    <tr>\n",
       "      <th>4</th>\n",
       "      <td>1223.472987</td>\n",
       "    </tr>\n",
       "  </tbody>\n",
       "</table>\n",
       "</div>"
      ],
      "text/plain": [
       "   Martian height\n",
       "0     1214.873193\n",
       "1     1141.343183\n",
       "2     1121.849623\n",
       "3     1193.585393\n",
       "4     1223.472987"
      ]
     },
     "execution_count": 1,
     "metadata": {},
     "output_type": "execute_result"
    }
   ],
   "source": [
    "%matplotlib inline\n",
    "\n",
    "from __future__ import print_function\n",
    "\n",
    "import scipy.stats as st\n",
    "import pandas as pd\n",
    "import math\n",
    "import matplotlib.pyplot as plt\n",
    "import numpy as np\n",
    "from ipywidgets import widgets, interact\n",
    "from IPython.display import display, clear_output\n",
    "\n",
    "mu = 1200\n",
    "sigma = 37\n",
    "n = 1000\n",
    "X = st.norm(mu, sigma)\n",
    "population = pd.DataFrame(X.rvs(n), columns=['Martian height'])\n",
    "population.head()"
   ]
  },
  {
   "cell_type": "markdown",
   "metadata": {},
   "source": [
    "If we don't have access to the mean of the population (actually we do, because we just synthesized these data, but usually this is not the case; moreover, this will also let us check how far our approximation is from the _real_ value), we can use the _sample mean_ as an approximation:"
   ]
  },
  {
   "cell_type": "code",
   "execution_count": 2,
   "metadata": {},
   "outputs": [
    {
     "data": {
      "text/plain": [
       "1192.3666844920833"
      ]
     },
     "execution_count": 2,
     "metadata": {},
     "output_type": "execute_result"
    }
   ],
   "source": [
    "sample = population['Martian height'].sample(20)\n",
    "sample.mean()"
   ]
  },
  {
   "cell_type": "markdown",
   "metadata": {},
   "source": [
    "If we repeatedly compute the estimate from different samples of equal size, of course the result will change each time, as highlighted by the following interactive graph, where the red and green line denote the actual and approximated mean value, respectively."
   ]
  },
  {
   "cell_type": "code",
   "execution_count": 3,
   "metadata": {},
   "outputs": [
    {
     "data": {
      "application/vnd.jupyter.widget-view+json": {
       "model_id": "785e13623d0f408b89a0c5da8db6ca2e",
       "version_major": 2,
       "version_minor": 0
      },
      "text/html": [
       "<p>Failed to display Jupyter Widget of type <code>VBox</code>.</p>\n",
       "<p>\n",
       "  If you're reading this message in the Jupyter Notebook or JupyterLab Notebook, it may mean\n",
       "  that the widgets JavaScript is still loading. If this message persists, it\n",
       "  likely means that the widgets JavaScript library is either not installed or\n",
       "  not enabled. See the <a href=\"https://ipywidgets.readthedocs.io/en/stable/user_install.html\">Jupyter\n",
       "  Widgets Documentation</a> for setup instructions.\n",
       "</p>\n",
       "<p>\n",
       "  If you're reading this message in another frontend (for example, a static\n",
       "  rendering on GitHub or <a href=\"https://nbviewer.jupyter.org/\">NBViewer</a>),\n",
       "  it may mean that your frontend doesn't currently support widgets.\n",
       "</p>\n"
      ],
      "text/plain": [
       "VBox(children=(Button(description='Once again!', style=ButtonStyle()), Output()))"
      ]
     },
     "metadata": {},
     "output_type": "display_data"
    }
   ],
   "source": [
    "def show_sample_and_means(sample, mu):\n",
    "    n = len(sample)\n",
    "    plt.plot(sample, [0]*n, 'o', ms=4, alpha=0.5)\n",
    "    plt.plot((sample.min(), sample.max()), (0,0))\n",
    "    plt.plot(2*[mu], (-.05, .05), c='r')\n",
    "    plt.plot(2*[sample.mean()], (-.05, .05), c='g')\n",
    "    plt.ylim(-.2, .2)\n",
    "    plt.xlim(1150, 1250)\n",
    "    plt.show()\n",
    "\n",
    "btn = widgets.Button(description=\"Once again!\")\n",
    "out = widgets.Output()\n",
    "\n",
    "def sample_and_compute(b):\n",
    "    with out:\n",
    "        clear_output()\n",
    "        show_sample_and_means(population['Martian height'].sample(20), mu)\n",
    "\n",
    "btn.on_click(sample_and_compute)\n",
    "sample_and_compute(btn)\n",
    "widgets.VBox([btn, out])"
   ]
  },
  {
   "cell_type": "markdown",
   "metadata": {},
   "source": [
    "It's easy to see that the estimated value oscillates around the actual one. This is an important property of the used statistic, namely its _unbiasedness_. Formally speaking, denoting by $X_1, \\dots, X_n$ the random variables associated to the sampled elements, we used as statistic the sample mean\n",
    "\n",
    "$$ \\bar X = \\frac{1}{n}\\sum_{i=1}^n X_i, $$\n",
    "\n",
    "whose unbiasedness property ensures that $\\mathcal E\\left(\\bar X\\right) = \\mu$, where $\\mu$ is the mean of the underlying population. There are only a few cases where such a results is independent of the distribution of the population. One such popular case is that of variance, which can be unbiasedly approximated using the so-called _sample variance_\n",
    "\n",
    "$$ S^2 = \\frac{1}{n-1}\\sum_{i=1}^n \\left(X_i - \\bar X\\right)^2, $$\n",
    "\n",
    "where the $\\frac{1}{n-1}$ factor ensures the unbiasedness property."
   ]
  },
  {
   "cell_type": "markdown",
   "metadata": {
    "slideshow": {
     "slide_type": "slide"
    }
   },
   "source": [
    "## Second approach: fiducial intervals\n",
    "\n",
    "Alternative to point estimation: given an unknown quantity $\\tau$\n",
    "\n",
    "- provide an interval $I$ likely containing $\\tau$\n",
    "- and quantiy this likelyhood"
   ]
  },
  {
   "cell_type": "markdown",
   "metadata": {},
   "source": [
    "## A first example\n",
    "\n",
    "$$\\{ X_1, \\dots, X_n\\} \\text{ sample from } X\\sim N(\\mu, \\sigma)$$\n",
    "\n",
    "$$\\bar X = \\frac{1}{n}\\sum_{i=1}^n X_i \\sim N\\left(\\mu, \\frac{\\sigma}{\\sqrt{n}}\\right)$$\n",
    "\n",
    "$$Z = \\frac{\\bar X - \\mu}{\\frac{\\sigma}{\\sqrt{n}}} \\sim N(0, 1)$$\n",
    "\n",
    "Fixed $\\alpha$, find $z$ such that\n",
    "\n",
    "$$\\mathrm P(|Z|<z) = \\alpha $$"
   ]
  },
  {
   "cell_type": "code",
   "execution_count": 4,
   "metadata": {
    "hide_input": false
   },
   "outputs": [
    {
     "data": {
      "application/vnd.jupyter.widget-view+json": {
       "model_id": "05302a88272046718223e221d20ee144",
       "version_major": 2,
       "version_minor": 0
      },
      "text/html": [
       "<p>Failed to display Jupyter Widget of type <code>interactive</code>.</p>\n",
       "<p>\n",
       "  If you're reading this message in the Jupyter Notebook or JupyterLab Notebook, it may mean\n",
       "  that the widgets JavaScript is still loading. If this message persists, it\n",
       "  likely means that the widgets JavaScript library is either not installed or\n",
       "  not enabled. See the <a href=\"https://ipywidgets.readthedocs.io/en/stable/user_install.html\">Jupyter\n",
       "  Widgets Documentation</a> for setup instructions.\n",
       "</p>\n",
       "<p>\n",
       "  If you're reading this message in another frontend (for example, a static\n",
       "  rendering on GitHub or <a href=\"https://nbviewer.jupyter.org/\">NBViewer</a>),\n",
       "  it may mean that your frontend doesn't currently support widgets.\n",
       "</p>\n"
      ],
      "text/plain": [
       "interactive(children=(FloatSlider(value=0.95, description='Confidence', max=0.99, min=0.1, step=0.01), Output()), _dom_classes=('widget-interact',))"
      ]
     },
     "metadata": {},
     "output_type": "display_data"
    }
   ],
   "source": [
    "def ci_graph(conf):\n",
    "    Z = st.norm()\n",
    "    q = Z.ppf((1+conf)/2)\n",
    "    xs = np.arange(-q, q+.01, .01)\n",
    "    plt.plot(xs, Z.pdf(xs))\n",
    "    left_tail = np.arange(-3, -q+.01, .01)\n",
    "    right_tail = np.arange(q, 3, .01)\n",
    "    plt.fill_between(right_tail, 0, Z.pdf(right_tail), facecolor='lightblue')\n",
    "    plt.fill_between(left_tail, 0, Z.pdf(left_tail), facecolor='lightblue')\n",
    "    plt.title('$z = {:.2f}$'.format(q))\n",
    "    plt.text(q+(3-q)/2, Z.pdf(q), r'$\\frac{1-\\alpha}{2}$', fontsize=25, horizontalalignment='center')\n",
    "    plt.text(-q-(3-q)/2, Z.pdf(q), r'$\\frac{1-\\alpha}{2}$', fontsize=25, horizontalalignment='center')\n",
    "    plt.text(0, .15, r'$\\alpha$', fontsize=25, horizontalalignment='center')\n",
    "    plt.show()\n",
    "\n",
    "rangeSlider = widgets.FloatSlider(\n",
    "    value = .95,\n",
    "    min = .1,\n",
    "    max = .99,\n",
    "    step = .01,\n",
    "    description = 'Confidence',\n",
    "    continuous_update = True\n",
    ")\n",
    "\n",
    "interact(ci_graph, conf=rangeSlider);"
   ]
  },
  {
   "cell_type": "markdown",
   "metadata": {},
   "source": [
    "Let $\\chi_p = \\Phi^{-1}(p)$ denote the $p$ quantile of $Z$\n",
    "\n",
    "The answer is\n",
    "\n",
    "$$ z = \\chi_{1-\\frac{1-\\alpha}{2}} = \\chi_{\\frac{1+\\alpha}{2}} $$"
   ]
  },
  {
   "cell_type": "markdown",
   "metadata": {},
   "source": [
    "Some reference values:"
   ]
  },
  {
   "cell_type": "code",
   "execution_count": 5,
   "metadata": {
    "hide_input": true
   },
   "outputs": [
    {
     "data": {
      "text/html": [
       "<style>\n",
       "table#id626208 tr :first-child{display: none;}\n",
       "</style><table id=id626208  border=\"1\" class=\"dataframe\">\n",
       "  <thead>\n",
       "    <tr style=\"text-align: right;\">\n",
       "      <th></th>\n",
       "      <th>alpha</th>\n",
       "      <th>z</th>\n",
       "    </tr>\n",
       "  </thead>\n",
       "  <tbody>\n",
       "    <tr>\n",
       "      <th>0</th>\n",
       "      <td>0.50</td>\n",
       "      <td>0.67</td>\n",
       "    </tr>\n",
       "    <tr>\n",
       "      <th>1</th>\n",
       "      <td>0.55</td>\n",
       "      <td>0.76</td>\n",
       "    </tr>\n",
       "    <tr>\n",
       "      <th>2</th>\n",
       "      <td>0.60</td>\n",
       "      <td>0.84</td>\n",
       "    </tr>\n",
       "    <tr>\n",
       "      <th>3</th>\n",
       "      <td>0.65</td>\n",
       "      <td>0.93</td>\n",
       "    </tr>\n",
       "    <tr>\n",
       "      <th>4</th>\n",
       "      <td>0.70</td>\n",
       "      <td>1.04</td>\n",
       "    </tr>\n",
       "    <tr>\n",
       "      <th>5</th>\n",
       "      <td>0.75</td>\n",
       "      <td>1.15</td>\n",
       "    </tr>\n",
       "    <tr>\n",
       "      <th>6</th>\n",
       "      <td>0.80</td>\n",
       "      <td>1.28</td>\n",
       "    </tr>\n",
       "    <tr>\n",
       "      <th>7</th>\n",
       "      <td>0.85</td>\n",
       "      <td>1.44</td>\n",
       "    </tr>\n",
       "    <tr>\n",
       "      <th>8</th>\n",
       "      <td>0.90</td>\n",
       "      <td>1.64</td>\n",
       "    </tr>\n",
       "    <tr>\n",
       "      <th>9</th>\n",
       "      <td>0.95</td>\n",
       "      <td>1.96</td>\n",
       "    </tr>\n",
       "  </tbody>\n",
       "</table>"
      ],
      "text/plain": [
       "<IPython.core.display.HTML object>"
      ]
     },
     "execution_count": 5,
     "metadata": {},
     "output_type": "execute_result"
    }
   ],
   "source": [
    "def HTML_with_style(df, style=None, random_id=None):\n",
    "    from IPython.display import HTML\n",
    "    import numpy as np\n",
    "    import re\n",
    "\n",
    "    df_html = df.to_html()\n",
    "\n",
    "    if random_id is None:\n",
    "        random_id = 'id%d' % np.random.choice(np.arange(1000000))\n",
    "\n",
    "    if style is None:\n",
    "        style = \"\"\"\n",
    "        <style>\n",
    "            table#{random_id} {{color: blue}}\n",
    "        </style>\n",
    "        \"\"\".format(random_id=random_id)\n",
    "    else:\n",
    "        new_style = []\n",
    "        s = re.sub(r'</?style>', '', style).strip()\n",
    "        for line in s.split('\\n'):\n",
    "                line = line.strip()\n",
    "                if not re.match(r'^table', line):\n",
    "                    line = re.sub(r'^', 'table ', line)\n",
    "                new_style.append(line)\n",
    "        new_style = ['<style>'] + new_style + ['</style>']\n",
    "\n",
    "        style = re.sub(r'table(#\\S+)?',\n",
    "                       'table#%s' % random_id, '\\n'.join(new_style))\n",
    "\n",
    "    df_html = re.sub(r'<table', r'<table id=%s ' % random_id, df_html)\n",
    "\n",
    "    return HTML(style + df_html)\n",
    "\n",
    "style = \"\"\"\n",
    "<style>\n",
    "    table tr :first-child{display: none;}\n",
    "</style>\n",
    "\"\"\"\n",
    "\n",
    "Z = st.norm()\n",
    "HTML_with_style(pd.DataFrame([('{:.2f}'.format(alpha),\n",
    "  '{:.2f}'.format(Z.ppf((1+alpha)/2))) for alpha in np.arange(.5, 1, .05)],\n",
    "            columns=['alpha', 'z']),\n",
    "                style)"
   ]
  },
  {
   "cell_type": "markdown",
   "metadata": {},
   "source": [
    "Thus\n",
    "\n",
    "$$\\mathrm P(-\\chi_{\\frac{1+\\alpha}{2}} < Z < \\chi_{\\frac{1+\\alpha}{2}}) = \\alpha $$"
   ]
  },
  {
   "cell_type": "code",
   "execution_count": 6,
   "metadata": {
    "hide_input": true
   },
   "outputs": [
    {
     "data": {
      "application/vnd.jupyter.widget-view+json": {
       "model_id": "12ebe077873543ebbbfc197f7b045fe8",
       "version_major": 2,
       "version_minor": 0
      },
      "text/html": [
       "<p>Failed to display Jupyter Widget of type <code>interactive</code>.</p>\n",
       "<p>\n",
       "  If you're reading this message in the Jupyter Notebook or JupyterLab Notebook, it may mean\n",
       "  that the widgets JavaScript is still loading. If this message persists, it\n",
       "  likely means that the widgets JavaScript library is either not installed or\n",
       "  not enabled. See the <a href=\"https://ipywidgets.readthedocs.io/en/stable/user_install.html\">Jupyter\n",
       "  Widgets Documentation</a> for setup instructions.\n",
       "</p>\n",
       "<p>\n",
       "  If you're reading this message in another frontend (for example, a static\n",
       "  rendering on GitHub or <a href=\"https://nbviewer.jupyter.org/\">NBViewer</a>),\n",
       "  it may mean that your frontend doesn't currently support widgets.\n",
       "</p>\n"
      ],
      "text/plain": [
       "interactive(children=(FloatSlider(value=0.95, description='Confidence', max=0.99, min=0.1, step=0.01), Output()), _dom_classes=('widget-interact',))"
      ]
     },
     "metadata": {},
     "output_type": "display_data"
    }
   ],
   "source": [
    "def inner_ci_graph(conf):\n",
    "    Z = st.norm()\n",
    "    q = Z.ppf((1+conf)/2)\n",
    "    xs = np.arange(-q, q+.01, .01)\n",
    "    left_tail = np.arange(-3, -q+.01, .01)\n",
    "    right_tail = np.arange(q, 3, .01)\n",
    "    plt.plot(right_tail, Z.pdf(right_tail), c='b')\n",
    "    plt.plot(left_tail, Z.pdf(left_tail), c='b')\n",
    "    plt.fill_between(xs, 0, Z.pdf(xs), facecolor='lightblue')\n",
    "    plt.title('$P({:.2f} < Z < {:.2f}) = {:.2f}$'.format(-q, q, conf), fontsize=25)\n",
    "    plt.show()\n",
    "\n",
    "rangeSlider = widgets.FloatSlider(\n",
    "    value = .95,\n",
    "    min = .1,\n",
    "    max = .99,\n",
    "    step = .01,\n",
    "    description = 'Confidence',\n",
    "    continuous_update = True\n",
    ")\n",
    "\n",
    "interact(inner_ci_graph, conf=rangeSlider);"
   ]
  },
  {
   "cell_type": "markdown",
   "metadata": {},
   "source": [
    "But\n",
    "\n",
    "$$Z = \\frac{\\bar X - \\mu}{\\frac{\\sigma}{\\sqrt{n}}} \\sim N(0, 1)$$\n",
    "\n",
    "so\n",
    "\n",
    "$$\\mathrm P\\left(\n",
    "    -\\chi_{\\frac{1+\\alpha}{2}} < Z < \\chi_{\\frac{1+\\alpha}{2}}\n",
    "  \\right) = \n",
    "  \\mathrm P\\left(\n",
    "    \\bar X -\\chi_{\\frac{1+\\alpha}{2}} \\frac{\\sigma}{\\sqrt{n}} <\n",
    "    \\mu < \\bar X + \\chi_{\\frac{1+\\alpha}{2}} \\frac{\\sigma}{\\sqrt{n}}\n",
    "  \\right) $$"
   ]
  },
  {
   "cell_type": "markdown",
   "metadata": {},
   "source": [
    "Summing up\n",
    "\n",
    "$$\\mathrm P\\left(\n",
    "    \\bar X -\\chi_{\\frac{1+\\alpha}{2}} \\frac{\\sigma}{\\sqrt{n}} <\n",
    "    \\mu < \\bar X + \\chi_{\\frac{1+\\alpha}{2}} \\frac{\\sigma}{\\sqrt{n}}\n",
    "  \\right) = \\alpha $$\n",
    "  \n",
    "Thus\n",
    "\n",
    "$$\\left(\\bar X -\\chi_{\\frac{1+\\alpha}{2}} \\frac{\\sigma}{\\sqrt{n}},\n",
    "       \\bar X + \\chi_{\\frac{1+\\alpha}{2}} \\frac{\\sigma}{\\sqrt{n}}\\right)$$\n",
    "\n",
    "is a _confidence interval_ for $\\mu$"
   ]
  },
  {
   "cell_type": "markdown",
   "metadata": {},
   "source": [
    "Let's replace $\\alpha$ by $1 - \\delta$:\n",
    "\n",
    "$$ \\mathrm P \\left(|Z| < \\chi_{\\frac{1+\\alpha}{2}} \\right) = \\alpha $$\n",
    "\n",
    "translates to\n",
    "\n",
    "$$ \\mathrm P \\left(|Z| < \\chi_{-\\frac{\\delta}{2}} \\right) = 1-\\delta $$\n",
    "\n",
    "and $\\chi_{-\\frac{\\delta}{2}} = - \\chi_{\\frac{\\delta}{2}}$, thus\n",
    "\n",
    "$$ \\mathrm P\\left(\n",
    "     \\bar X +\\chi_{\\frac{\\delta}{2}} \\frac{\\sigma}{\\sqrt{n}} <\n",
    "     \\mu < \\bar X - \\chi_{\\frac{\\delta}{2}} \\frac{\\sigma}{\\sqrt{n}}\n",
    "   \\right) = 1-\\delta $$\n",
    "  \n",
    "Formally speaking\n",
    "\n",
    "$$ \\left(\n",
    "     \\bar X +\\chi_{\\frac{\\delta}{2}} \\frac{\\sigma}{\\sqrt{n}},\n",
    "     \\bar X - \\chi_{\\frac{\\delta}{2}} \\frac{\\sigma}{\\sqrt{n}}\n",
    "   \\right) = 1-\\delta $$\n",
    "\n",
    "is a _confidence interval_ for $\\mu = \\mathcal E(X)$:\n",
    "\n",
    "- $1-\\delta$: _confidence_ of the interval,\n",
    "- $\\delta$: _confidence level_ of the interval."
   ]
  },
  {
   "cell_type": "markdown",
   "metadata": {},
   "source": [
    "For sake of simplicity, let's also build a function computing generic confidence intervals for the mean of a gaussian variable."
   ]
  },
  {
   "cell_type": "code",
   "execution_count": 7,
   "metadata": {},
   "outputs": [],
   "source": [
    "def ci_mu_norm(sigma, delta, sample):\n",
    "    Z = st.norm()\n",
    "    x_bar = sample.mean()\n",
    "    chi = Z.ppf(delta/2)\n",
    "    n = len(sample)\n",
    "    confidence_interval = (x_bar + chi * sigma / math.sqrt(n),\n",
    "                           x_bar - chi * sigma / math.sqrt(n))\n",
    "\n",
    "    return confidence_interval"
   ]
  },
  {
   "cell_type": "markdown",
   "metadata": {},
   "source": [
    "Just to check out that everything works, we can sample 30 martians and see what happens."
   ]
  },
  {
   "cell_type": "code",
   "execution_count": 8,
   "metadata": {},
   "outputs": [
    {
     "name": "stdout",
     "output_type": "stream",
     "text": [
      "(1187.7062289982239, 1214.1863023252379)\n"
     ]
    }
   ],
   "source": [
    "sample = population['Martian height'].sample(30)\n",
    "ci = ci_mu_norm(sigma, 0.05, sample)\n",
    "print(ci)"
   ]
  },
  {
   "cell_type": "markdown",
   "metadata": {},
   "source": [
    "I've also defined a `show_sample_and_ci` function showing sample, confidence interval, and mean to be estimated (click the three dots here below if you are curioius)."
   ]
  },
  {
   "cell_type": "code",
   "execution_count": 9,
   "metadata": {},
   "outputs": [],
   "source": [
    "def show_sample_and_ci(sample, ci, mu):\n",
    "    n = len(sample)\n",
    "    plt.plot(sample, [0]*n, 'o', ms=4, alpha=0.5)\n",
    "    plt.plot((sample.min(), sample.max()), (0,0))\n",
    "    plt.plot(ci, (0, 0), c='b', linewidth=4)\n",
    "    plt.plot(2*[ci[0]], (-.01, .01), c='b')\n",
    "    plt.plot(2*[ci[1]], (-.01, .01), c='b')\n",
    "    plt.plot(2*[mu], (-.05, .05), c='r')\n",
    "    plt.ylim(-.2, .2)\n",
    "    plt.xlim(1150, 1250)\n",
    "    plt.show()"
   ]
  },
  {
   "cell_type": "code",
   "execution_count": 10,
   "metadata": {},
   "outputs": [
    {
     "data": {
      "image/png": "[encoded data removed]",
      "text/plain": [
       "<matplotlib.figure.Figure at 0x1a1aa29d68>"
      ]
     },
     "metadata": {},
     "output_type": "display_data"
    }
   ],
   "source": [
    "show_sample_and_ci(sample, ci, mu)"
   ]
  },
  {
   "cell_type": "markdown",
   "metadata": {},
   "source": [
    "Now, the picture shows that the true value of $\\mu$ is indeed contained in the provided confidence interval (and this will highly likely occur if you run the software yourself, although in some cases that could not happen). This can be checked easily also through code:"
   ]
  },
  {
   "cell_type": "code",
   "execution_count": 11,
   "metadata": {},
   "outputs": [
    {
     "data": {
      "text/plain": [
       "True"
      ]
     },
     "execution_count": 11,
     "metadata": {},
     "output_type": "execute_result"
    }
   ],
   "source": [
    "ci[0] <= mu <= ci[1]"
   ]
  },
  {
   "cell_type": "markdown",
   "metadata": {},
   "source": [
    "Would that always happen if we repeatedly sample from the population and build a confidence interval?"
   ]
  },
  {
   "cell_type": "code",
   "execution_count": 12,
   "metadata": {},
   "outputs": [
    {
     "data": {
      "application/vnd.jupyter.widget-view+json": {
       "model_id": "08d8c46ae1b5429ab7f1e8db2a1a7e67",
       "version_major": 2,
       "version_minor": 0
      },
      "text/html": [
       "<p>Failed to display Jupyter Widget of type <code>VBox</code>.</p>\n",
       "<p>\n",
       "  If you're reading this message in the Jupyter Notebook or JupyterLab Notebook, it may mean\n",
       "  that the widgets JavaScript is still loading. If this message persists, it\n",
       "  likely means that the widgets JavaScript library is either not installed or\n",
       "  not enabled. See the <a href=\"https://ipywidgets.readthedocs.io/en/stable/user_install.html\">Jupyter\n",
       "  Widgets Documentation</a> for setup instructions.\n",
       "</p>\n",
       "<p>\n",
       "  If you're reading this message in another frontend (for example, a static\n",
       "  rendering on GitHub or <a href=\"https://nbviewer.jupyter.org/\">NBViewer</a>),\n",
       "  it may mean that your frontend doesn't currently support widgets.\n",
       "</p>\n"
      ],
      "text/plain": [
       "VBox(children=(Button(description='Once again!', style=ButtonStyle()), Output()))"
      ]
     },
     "metadata": {},
     "output_type": "display_data"
    }
   ],
   "source": [
    "btn = widgets.Button(description=\"Once again!\")\n",
    "out = widgets.Output()\n",
    "\n",
    "def sample_and_compute(b):\n",
    "    sample = population['Martian height'].sample(30)\n",
    "    ci = ci_mu_norm(sigma, 0.05, sample)\n",
    "    with out:\n",
    "        clear_output()\n",
    "        show_sample_and_ci(sample, ci, mu)\n",
    "\n",
    "btn.on_click(sample_and_compute)\n",
    "sample_and_compute(btn)\n",
    "widgets.VBox([btn, out])"
   ]
  },
  {
   "cell_type": "markdown",
   "metadata": {},
   "source": [
    "We can now give a frequentistic interpretatation of the event\n",
    "\n",
    "$$\\bar X +\\chi_{\\frac{\\alpha}{2}} \\frac{\\sigma}{\\sqrt{n}} <\n",
    "    \\mu < \\bar X - \\chi_{\\frac{\\alpha}{2}} \\frac{\\sigma}{\\sqrt{n}}$$"
   ]
  },
  {
   "cell_type": "code",
   "execution_count": 13,
   "metadata": {},
   "outputs": [
    {
     "name": "stdout",
     "output_type": "stream",
     "text": [
      "(1200.58564272289, 1227.065716049904)\n",
      "(1203.9961453375354, 1230.4762186645494)\n",
      "(1201.282266233273, 1227.762339560287)\n",
      "(1200.7790918386845, 1227.2591651656985)\n",
      "(1200.6870460377468, 1227.1671193647608)\n",
      "(1200.1321958737144, 1226.6122692007284)\n"
     ]
    }
   ],
   "source": [
    "for _ in range(100):\n",
    "    sample = population['Martian height'].sample(30)\n",
    "    ci = ci_mu_norm(sigma, 0.05, sample)\n",
    "    if not ci[0] <= mu <= ci[1]:\n",
    "        print(ci)"
   ]
  },
  {
   "cell_type": "markdown",
   "metadata": {},
   "source": [
    "Thus $100\\delta$ represents the average percentage of times, in a long run, that the confidence interval does not contain the parameter to be inferred.\n",
    "\n",
    "Advantage of the interval-based estimate over the point-based one:\n",
    "\n",
    "- the interval length gives an idea of the indetermination,\n",
    "- it obviously depends on the distribution under study and on sample size."
   ]
  },
  {
   "cell_type": "code",
   "execution_count": 14,
   "metadata": {
    "hide_input": true
   },
   "outputs": [
    {
     "data": {
      "application/vnd.jupyter.widget-view+json": {
       "model_id": "23c11761bd5c4309a4b441add12c3a10",
       "version_major": 2,
       "version_minor": 0
      },
      "text/html": [
       "<p>Failed to display Jupyter Widget of type <code>interactive</code>.</p>\n",
       "<p>\n",
       "  If you're reading this message in the Jupyter Notebook or JupyterLab Notebook, it may mean\n",
       "  that the widgets JavaScript is still loading. If this message persists, it\n",
       "  likely means that the widgets JavaScript library is either not installed or\n",
       "  not enabled. See the <a href=\"https://ipywidgets.readthedocs.io/en/stable/user_install.html\">Jupyter\n",
       "  Widgets Documentation</a> for setup instructions.\n",
       "</p>\n",
       "<p>\n",
       "  If you're reading this message in another frontend (for example, a static\n",
       "  rendering on GitHub or <a href=\"https://nbviewer.jupyter.org/\">NBViewer</a>),\n",
       "  it may mean that your frontend doesn't currently support widgets.\n",
       "</p>\n"
      ],
      "text/plain": [
       "interactive(children=(IntSlider(value=30, description='Sample size', max=205, min=10, step=5), Output()), _dom_classes=('widget-interact',))"
      ]
     },
     "metadata": {},
     "output_type": "display_data"
    }
   ],
   "source": [
    "def ci_vs_sample_size(n):\n",
    "    sample = population['Martian height'].sample(n)\n",
    "    ci = ci_mu_norm(sigma, 0.05, sample)\n",
    "    show_sample_and_ci(sample, ci, mu)\n",
    "\n",
    "sizeSlider = widgets.IntSlider(\n",
    "    value = 30,\n",
    "    min = 10,\n",
    "    max = 205,\n",
    "    step = 5,\n",
    "    description = 'Sample size',\n",
    "    continuous_update = True\n",
    ")\n",
    "\n",
    "interact(ci_vs_sample_size, n=sizeSlider);"
   ]
  },
  {
   "cell_type": "markdown",
   "metadata": {},
   "source": [
    "In a real-world scenario $\\sigma$ is not known. Thus, instead of\n",
    "\n",
    "$$\\frac{\\bar X - \\mu}{\\frac{\\sigma}{\\sqrt{n}}}$$\n",
    "\n",
    "use\n",
    "\n",
    "$$\\frac{\\bar X - \\mu}{\\frac{S}{\\sqrt{n}}},$$\n",
    "\n",
    "$S$ being the sample standard deviation, defined by\n",
    "\n",
    "$$\n",
    "S^2 = \\frac{1}{n-1} \\sum_{i=1}^n \\left( X_i - \\bar X \\right)^2\n",
    "$$"
   ]
  },
  {
   "cell_type": "markdown",
   "metadata": {},
   "source": [
    "## Question\n",
    "\n",
    "Is the resulting statistic still normal?\n",
    "\n",
    "## Short answer\n",
    "\n",
    "No.\n",
    "\n",
    "## Long answer\n",
    "\n",
    "Let's collect some thousand samples of 4 normal-distributed values, compute the corresponding values of $s$, normalize them, and plot the resulting empirical cumulative distribution function against those of a standard normal."
   ]
  },
  {
   "cell_type": "code",
   "execution_count": 26,
   "metadata": {},
   "outputs": [
    {
     "data": {
      "image/png": "[encoded data removed]",
      "text/plain": [
       "<matplotlib.figure.Figure at 0x1a1aa42710>"
      ]
     },
     "metadata": {},
     "output_type": "display_data"
    }
   ],
   "source": [
    "def t_stat(sample):\n",
    "    x_bar = sample.mean()\n",
    "    s = sample.std()\n",
    "    return x_bar / s * len(sample)**0.5\n",
    "\n",
    "Z = st.norm()\n",
    "n = 5000\n",
    "samples = np.split(Z.rvs(4*n), n)\n",
    "t_vals = np.array(list(map(t_stat, samples)))\n",
    "normalized_t_vals = (t_vals-t_vals.mean()) / t_vals.std()\n",
    "\n",
    "import statsmodels.api as sm\n",
    "\n",
    "ecdf = sm.distributions.ECDF(normalized_t_vals)\n",
    "x = np.arange(-4, 4, 0.1)\n",
    "y = ecdf(x)\n",
    "plt.step(x, y)\n",
    "plt.plot(x, Z.cdf(x))\n",
    "plt.show()"
   ]
  },
  {
   "cell_type": "markdown",
   "metadata": {},
   "source": [
    "The obtained distribution recalls a standard normal one, albeit with the probability mass much more distributed around the mean value.\n",
    "\n",
    "To have a more precise answer, we can run a normality test on the obtained values:"
   ]
  },
  {
   "cell_type": "code",
   "execution_count": 16,
   "metadata": {},
   "outputs": [
    {
     "data": {
      "text/plain": [
       "0.0"
      ]
     },
     "execution_count": 16,
     "metadata": {},
     "output_type": "execute_result"
    }
   ],
   "source": [
    "from scipy.stats import normaltest\n",
    "\n",
    "normaltest(normalized_t_vals).pvalue"
   ]
  },
  {
   "cell_type": "markdown",
   "metadata": {},
   "source": [
    "the result is extremely below any reasonable threshold allowing us to accept the normality hypothesis.\n",
    "\n",
    "However, there is a good news: it can be shown that\n",
    "\n",
    "$$\\frac{\\bar X - \\mu}{\\frac{S}{\\sqrt{n}}}$$\n",
    "\n",
    "follows a known distribution, namely the _t distribution_ with $n-1$ degrees of freedom ($n$ being the sample size)."
   ]
  },
  {
   "cell_type": "code",
   "execution_count": 17,
   "metadata": {},
   "outputs": [
    {
     "data": {
      "image/png": "[encoded data removed]",
      "text/plain": [
       "<matplotlib.figure.Figure at 0x1a1a111d30>"
      ]
     },
     "metadata": {},
     "output_type": "display_data"
    }
   ],
   "source": [
    "T = st.t(3)\n",
    "ecdf = sm.distributions.ECDF(t_vals)\n",
    "x = np.arange(-4, 4, 0.1)\n",
    "y = ecdf(x)\n",
    "plt.step(x, y)\n",
    "plt.plot(x, T.cdf(x))\n",
    "plt.show()"
   ]
  },
  {
   "cell_type": "markdown",
   "metadata": {},
   "source": [
    "Let's compare the density of t distributions with different degrees of freedon with that of the standard gaussian distribution. "
   ]
  },
  {
   "cell_type": "code",
   "execution_count": 18,
   "metadata": {},
   "outputs": [
    {
     "data": {
      "application/vnd.jupyter.widget-view+json": {
       "model_id": "7a576119fce743bfbb37b80b301f9b53",
       "version_major": 2,
       "version_minor": 0
      },
      "text/html": [
       "<p>Failed to display Jupyter Widget of type <code>interactive</code>.</p>\n",
       "<p>\n",
       "  If you're reading this message in the Jupyter Notebook or JupyterLab Notebook, it may mean\n",
       "  that the widgets JavaScript is still loading. If this message persists, it\n",
       "  likely means that the widgets JavaScript library is either not installed or\n",
       "  not enabled. See the <a href=\"https://ipywidgets.readthedocs.io/en/stable/user_install.html\">Jupyter\n",
       "  Widgets Documentation</a> for setup instructions.\n",
       "</p>\n",
       "<p>\n",
       "  If you're reading this message in another frontend (for example, a static\n",
       "  rendering on GitHub or <a href=\"https://nbviewer.jupyter.org/\">NBViewer</a>),\n",
       "  it may mean that your frontend doesn't currently support widgets.\n",
       "</p>\n"
      ],
      "text/plain": [
       "interactive(children=(IntSlider(value=4, description='Degrees of freedom', max=30, min=1), Output()), _dom_classes=('widget-interact',))"
      ]
     },
     "metadata": {},
     "output_type": "display_data"
    }
   ],
   "source": [
    "def t_graph(n):\n",
    "    T = st.t(n)\n",
    "    Z = st.norm()\n",
    "    xs = np.arange(-4, 4, 0.1)\n",
    "    plt.plot(xs, T.pdf(xs))\n",
    "    plt.plot(xs, Z.pdf(xs), alpha=0.4, c='b', linewidth=3)\n",
    "    plt.ylim(0, 0.4)\n",
    "    plt.show()\n",
    "\n",
    "interact(t_graph, n=widgets.IntSlider(\n",
    "    value = 4,\n",
    "    min = 1,\n",
    "    max = 30,\n",
    "    description = 'Degrees of freedom',\n",
    "    continuous_update = True\n",
    "));"
   ]
  },
  {
   "cell_type": "markdown",
   "metadata": {},
   "source": [
    "Computing a confidence interval when $\\sigma$ is unknown is just a matter of replacing $\\sigma$ with $s$ and the quantiles of a standard normal distribution with those of a t distribution with $n-1$ degrees of freedom."
   ]
  },
  {
   "cell_type": "code",
   "execution_count": 19,
   "metadata": {},
   "outputs": [
    {
     "name": "stdout",
     "output_type": "stream",
     "text": [
      "(1187.3471188889059, 1207.4710981528463)\n"
     ]
    }
   ],
   "source": [
    "delta = 0.1\n",
    "x_bar = sample.mean()\n",
    "s = sample.std()\n",
    "n = len(sample)\n",
    "T = st.t(n-1)\n",
    "chi = T.ppf(delta/2)\n",
    "confidence_interval = (x_bar + chi * s / math.sqrt(n),\n",
    "                       x_bar - chi * s / math.sqrt(n))\n",
    "print(confidence_interval)"
   ]
  },
  {
   "cell_type": "markdown",
   "metadata": {},
   "source": [
    "## Sample size analysis\n",
    "\n",
    "The width of a confidence interval naturally identifies with the _uncertainty_ of the estimate. It is often necessary to provide a maximal width, that is an upper bound on uncertainty, at the price of selecting additional samples. For instance, the length of a confidence interval for the mean of a normal population having known variance $\\sigma^2$ is\n",
    "\n",
    "$$ 2\\frac{\\chi_{\\frac{\\delta}{2}}\\sigma}{\\sqrt{n}}, $$\n",
    "\n",
    "thus if an upper bound $e$ on this lenght is envisaged, it is easy to see that\n",
    "\n",
    "$$ 2\\frac{\\chi_{\\frac{\\delta}{2}}\\sigma}{\\sqrt{n}} \\leq e $$\n",
    "\n",
    "if and only if\n",
    "\n",
    "$$ n \\geq \\left( \\frac{2\\chi_{\\frac{\\delta}{2}}\\sigma}{e} \\right)^2. $$\n",
    "\n",
    "Let's compute the minimal sample size ensuring a 0.95 confidence interval whose width is smaller than 10."
   ]
  },
  {
   "cell_type": "code",
   "execution_count": 20,
   "metadata": {},
   "outputs": [
    {
     "name": "stdout",
     "output_type": "stream",
     "text": [
      "211\n"
     ]
    }
   ],
   "source": [
    "delta = 0.05\n",
    "chi = Z.ppf(delta/2)\n",
    "e = 10\n",
    "\n",
    "n_min = int((2*chi*sigma/e)**2)+1\n",
    "print(n_min)"
   ]
  },
  {
   "cell_type": "markdown",
   "metadata": {},
   "source": [
    "We can easily verify that this sample size gives rise to a confidence interval of the required width."
   ]
  },
  {
   "cell_type": "code",
   "execution_count": 21,
   "metadata": {},
   "outputs": [
    {
     "data": {
      "text/plain": [
       "(1198.2988734713963, 1208.2836553757897)"
      ]
     },
     "execution_count": 21,
     "metadata": {},
     "output_type": "execute_result"
    }
   ],
   "source": [
    "ci_mu_norm(sigma, delta, population['Martian height'].sample(n_min))"
   ]
  },
  {
   "cell_type": "markdown",
   "metadata": {},
   "source": [
    "## Confidence intervals for the mean of generic distributions\n",
    "\n",
    "Consider now the generic case of a sample $X_1, \\dots, X_n$ drawn from a population $X$ whose distribution has expected value and variance equal to $\\mu$ and $\\sigma^2$, respectively, yet it is not normal. According to the central limit theorem, $\\sum_{i=1}^n X_i$ approximately follows a Gaussian distribution having mean $\\mu$ and standard deviation $\\sigma\\sqrt{n}$ (the higher $n$, the better the approximation), as exemplified by the following animation, where the empirical cumulative distibution of the sum of exponential distributions is plotted against the expected normal one."
   ]
  },
  {
   "cell_type": "code",
   "execution_count": 22,
   "metadata": {},
   "outputs": [
    {
     "data": {
      "application/vnd.jupyter.widget-view+json": {
       "model_id": "96703fe261874c9d94d8c6140ea5419e",
       "version_major": 2,
       "version_minor": 0
      },
      "text/html": [
       "<p>Failed to display Jupyter Widget of type <code>interactive</code>.</p>\n",
       "<p>\n",
       "  If you're reading this message in the Jupyter Notebook or JupyterLab Notebook, it may mean\n",
       "  that the widgets JavaScript is still loading. If this message persists, it\n",
       "  likely means that the widgets JavaScript library is either not installed or\n",
       "  not enabled. See the <a href=\"https://ipywidgets.readthedocs.io/en/stable/user_install.html\">Jupyter\n",
       "  Widgets Documentation</a> for setup instructions.\n",
       "</p>\n",
       "<p>\n",
       "  If you're reading this message in another frontend (for example, a static\n",
       "  rendering on GitHub or <a href=\"https://nbviewer.jupyter.org/\">NBViewer</a>),\n",
       "  it may mean that your frontend doesn't currently support widgets.\n",
       "</p>\n"
      ],
      "text/plain": [
       "interactive(children=(IntSlider(value=4, description='Sample size', max=30, min=1), Output()), _dom_classes=('widget-interact',))"
      ]
     },
     "metadata": {},
     "output_type": "display_data"
    }
   ],
   "source": [
    "def central_limit_th(n):\n",
    "    num_samples = 1000\n",
    "    U = st.expon()\n",
    "    sum_vals = list(map(sum,\n",
    "                        np.split(U.rvs(n * num_samples),\n",
    "                                 num_samples)))\n",
    "\n",
    "    N = st.norm(n*U.mean(), (n*U.var())**0.5)\n",
    "\n",
    "    ecdf = sm.distributions.ECDF(sum_vals)\n",
    "    x = np.arange(n*U.mean()-3*(n*U.var())**0.5,\n",
    "                  n*U.mean()+3*(n*U.var())**0.5,\n",
    "                  0.01)\n",
    "    y = ecdf(x)\n",
    "    plt.step(x, y)\n",
    "    plt.plot(x, N.cdf(x))\n",
    "    plt.show()\n",
    "\n",
    "interact(central_limit_th, n=widgets.IntSlider(\n",
    "    value = 4,\n",
    "    min = 1,\n",
    "    max = 30,\n",
    "    description = 'Sample size',\n",
    "    continuous_update = True\n",
    "));"
   ]
  },
  {
   "cell_type": "markdown",
   "metadata": {},
   "source": [
    "Analogously,\n",
    "\n",
    "$$\\frac{\\bar X - \\mu}{\\frac{\\sigma}{\\sqrt{n}}}$$\n",
    "\n",
    "will follow a Gaussian distribution, and thus the above mentioned techniques can be applied in order to find confidence intervals for $\\mu$."
   ]
  },
  {
   "cell_type": "markdown",
   "metadata": {},
   "source": [
    "## Formalization: bilateral and unilateral confidence intervals\n",
    "\n",
    "- Given a sample $X_1, \\dots, X_n$ from a distribution dependent on an unknown quantity $\\tau$,\n",
    "- let $T_{\\mathrm{low}}= t_{\\mathrm{low}}(X_1, \\dots, X_n)$ and $T_{\\mathrm{high}}=t_{\\mathrm{high}}(X_1, \\dots, X_n)$ denote two statistics\n",
    "- if\n",
    "  - $T_{\\mathrm{low}} \\leq T_{\\mathrm{high}}$\n",
    "  - $\\mathrm P(T_{\\mathrm{low}} \\leq \\tau \\leq T_{\\mathrm{high}}) = 1 - \\delta$\n",
    "  - $\\delta$ does not depend on $\\tau$\n",
    "\n",
    "  $(T_{\\mathrm{low}}, T_{\\mathrm{high}})$ is called a $1 - \\delta$ (bilateral) confidence interval for $\\tau$ (as well as its specifications $(t_{\\mathrm{low}}, t_{\\mathrm{high}})$).\n",
    "  \n",
    "Analogously, if alternatively\n",
    "\n",
    "- $\\mathrm P(\\tau \\leq T_{\\mathrm{high}}) = 1 - \\delta$\n",
    "- $\\mathrm P(\\tau \\geq T_{\\mathrm{low}}) = 1 - \\delta$\n",
    "\n",
    "$(-\\infty, T_{\\mathrm{high}})$ or $(T_{\\mathrm{low}}, +\\infty)$ is a $1 - \\delta$ _unilateral_ confidence interval for $\\tau$."
   ]
  },
  {
   "cell_type": "markdown",
   "metadata": {},
   "source": [
    "The procedure previously used can be easily adapted to unilateral confidence intervals for the mean of a gaussian distribution: as\n",
    "\n",
    "$$ \\mathrm P \\left(Z < \\chi_{1-\\delta} \\right) = 1-\\delta,$$\n",
    "\n",
    "and\n",
    "\n",
    "$$ \\mathrm P\\left(\n",
    "     \\mu > \\bar X - \\chi_{1-\\delta} \\frac{\\sigma}{\\sqrt{n}}\n",
    "   \\right) = 1-\\delta,$$\n",
    "  \n",
    "it follows that\n",
    "\n",
    "$$ \\left(\\bar X - \\chi_{1-\\delta} \\frac{\\sigma}{\\sqrt{n}},\n",
    "   +\\infty\\right) $$\n",
    "\n",
    "is a $1-\\delta$ unilateral confidence interval for $\\mu = \\mathcal E(X)$."
   ]
  },
  {
   "cell_type": "code",
   "execution_count": 23,
   "metadata": {},
   "outputs": [
    {
     "name": "stdout",
     "output_type": "stream",
     "text": [
      "1195.53515171\n"
     ]
    }
   ],
   "source": [
    "sample = population['Martian height'].sample(100)\n",
    "\n",
    "Z = st.norm()\n",
    "x_bar = sample.mean()\n",
    "chi = Z.ppf(1-delta)\n",
    "n = len(sample)\n",
    "ci_upper_bound = x_bar - chi * sigma / math.sqrt(n)\n",
    "\n",
    "print(ci_upper_bound)"
   ]
  },
  {
   "cell_type": "markdown",
   "metadata": {},
   "source": [
    "Recall that $\\mu = 1200$."
   ]
  },
  {
   "cell_type": "markdown",
   "metadata": {},
   "source": [
    "## Search of generic confidence intervals: pivotal quantities\n",
    "\n",
    "A _pivotal quantity_ is a function of the sample such that the resulting distribution does not depend on the unknown quantity we are building the confidence interval for."
   ]
  },
  {
   "cell_type": "markdown",
   "metadata": {},
   "source": [
    "### Example: confidence interval for the variance\n",
    "\n",
    "Let $X$ denote a normal population whose mean $\\mu$ an variance $\\sigma^2$ are unknown. It can be shown that\n",
    "\n",
    "$$ Q = \\frac{\\sum_{i=1}^n \\left(X_i - \\bar X\\right)^2}{\\sigma^2}\n",
    "     = \\frac{(n-1)S^2}{\\sigma^2}$$\n",
    "\n",
    "follows a chi-square distribution with $n-1$ degrees of freedom, which is independent from $\\sigma^2$ and as such can be used as a pivotal quantity."
   ]
  },
  {
   "cell_type": "markdown",
   "metadata": {},
   "source": [
    "Let $q_{\\mathrm{low}}$ and $q_{\\mathrm{high}}$ denote two values such that\n",
    "\n",
    "$$\\mathrm P \\left(q_{\\mathrm{low}} \\leq Q \\leq q_{\\mathrm{high}}\\right) = 1 - \\delta.$$\n",
    "\n",
    "As the former equation is equivalent to\n",
    "\n",
    "$$\\mathrm P \\left(\\frac{(n-1)S^2}{q_{\\mathrm{high}}} \\leq \\sigma^2 \\leq \\frac{(n-1)S^2}{q_{\\mathrm{low}}}\\right) = 1 - \\delta,$$\n",
    "\n",
    "$$ \\left(\\frac{(n-1)S^2}{q_{\\mathrm{high}}}, \\frac{(n-1)S^2}{q_{\\mathrm{low}}}\\right) $$\n",
    "\n",
    "is a $1-\\delta$ bilateral confidence interval for $\\sigma^2$.\n",
    "\n",
    "### Problem ###\n",
    "\n",
    "How $q_{\\mathrm{low}}$ and $q_{\\mathrm{high}}$ may be chosen? Easiest way: in such a way that $\\mathrm P(Q \\leq q_{\\mathrm{low}}) = \\frac{\\delta}{2}$ and $\\mathrm P(Q \\geq q_{\\mathrm{high}}) = \\frac{\\delta}{2}$.\n",
    "\n",
    "We can use this result in order to compute, for instance, a 0.9 confidence interval for the variance of our original dataset."
   ]
  },
  {
   "cell_type": "code",
   "execution_count": 24,
   "metadata": {},
   "outputs": [
    {
     "data": {
      "text/plain": [
       "(836.77034893651671, 1338.301370863948)"
      ]
     },
     "execution_count": 24,
     "metadata": {},
     "output_type": "execute_result"
    }
   ],
   "source": [
    "n = 100\n",
    "sample = population['Martian height'].sample(n)\n",
    "C = st.chi2(n-1)\n",
    "\n",
    "delta = 0.1\n",
    "\n",
    "q_low = C.ppf(delta/2)\n",
    "q_high = C.ppf(1-delta/2)\n",
    "\n",
    "s_2 = sum((sample - sample.mean())**2)\n",
    "\n",
    "(s_2 / q_high, s_2 / q_low)"
   ]
  },
  {
   "cell_type": "markdown",
   "metadata": {},
   "source": [
    "We can also easily verify that the interval is compatible with the estimated parameter:"
   ]
  },
  {
   "cell_type": "code",
   "execution_count": 25,
   "metadata": {},
   "outputs": [
    {
     "data": {
      "text/plain": [
       "1369"
      ]
     },
     "execution_count": 25,
     "metadata": {},
     "output_type": "execute_result"
    }
   ],
   "source": [
    "sigma**2"
   ]
  },
  {
   "cell_type": "markdown",
   "metadata": {},
   "source": [
    "### Some biblographic references\n",
    "\n",
    "- Sheldon M. Ross, Introduction to Probability and Statistics for Engineers and Scientists, 5th Edition, Academic Press, 2014\n",
    "- Alexander M. Mood, Franklin A. Graybill, Duane C. Boes, Introduction to the theory of Statistics, 3rd Edition, McGraw-Hill, 1950"
   ]
  },
  {
   "cell_type": "code",
   "execution_count": null,
   "metadata": {},
   "outputs": [],
   "source": []
  }
 ],
 "metadata": {
  "kernelspec": {
   "display_name": "Python 3",
   "language": "python",
   "name": "python3"
  },
  "language_info": {
   "codemirror_mode": {
    "name": "ipython",
    "version": 3
   },
   "file_extension": ".py",
   "mimetype": "text/x-python",
   "name": "python",
   "nbconvert_exporter": "python",
   "pygments_lexer": "ipython3",
   "version": "3.6.4"
  },
  "latex_envs": {
   "LaTeX_envs_menu_present": true,
   "autocomplete": true,
   "bibliofile": "biblio.bib",
   "cite_by": "apalike",
   "current_citInitial": 1,
   "eqLabelWithNumbers": true,
   "eqNumInitial": 1,
   "hotkeys": {
    "equation": "Ctrl-E",
    "itemize": "Ctrl-I"
   },
   "labels_anchors": false,
   "latex_user_defs": false,
   "report_style_numbering": false,
   "user_envs_cfg": false
  }
 },
 "nbformat": 4,
 "nbformat_minor": 2
}
